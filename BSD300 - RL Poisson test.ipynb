{
 "cells": [
  {
   "cell_type": "markdown",
   "metadata": {
    "colab_type": "text",
    "id": "Zl2SurraHMY0"
   },
   "source": [
    "# SPIE 2020 - Testing Residual Learning in BSD300 dataset with Poisson noise\n",
    "\n",
    "## Importing libraries"
   ]
  },
  {
   "cell_type": "code",
   "execution_count": 3,
   "metadata": {
    "colab": {
     "base_uri": "https://localhost:8080/",
     "height": 70
    },
    "colab_type": "code",
    "executionInfo": {
     "elapsed": 6167,
     "status": "ok",
     "timestamp": 1597231384702,
     "user": {
      "displayName": "Darlan Murilo Nakamura de Araujo",
      "photoUrl": "",
      "userId": "05286552425313295957"
     },
     "user_tz": 180
    },
    "id": "HUDAuC5bHMY1",
    "outputId": "717030b5-e38e-4b08-85fe-894168092871"
   },
   "outputs": [
    {
     "name": "stderr",
     "output_type": "stream",
     "text": [
      "/usr/local/lib/python3.6/dist-packages/statsmodels/tools/_testing.py:19: FutureWarning: pandas.util.testing is deprecated. Use the functions in the public API at pandas.testing instead.\n",
      "  import pandas.util.testing as tm\n"
     ]
    }
   ],
   "source": [
    "from typing import List, Dict, Tuple\n",
    "from copy import deepcopy\n",
    "import os\n",
    "import cv2\n",
    "import keras\n",
    "import numpy as np\n",
    "import matplotlib.pyplot as plt\n",
    "import seaborn as sns\n",
    "import tensorflow as tf\n",
    "from glob import glob\n",
    "from tqdm import tqdm\n",
    "from keras import Sequential, layers, activations\n",
    "from keras.models import Model, load_model\n",
    "from skimage.metrics import peak_signal_noise_ratio as psnr, structural_similarity as ssim\n",
    "from skimage.util import random_noise\n",
    "\n",
    "from images.image import * \n",
    "from utils import *"
   ]
  },
  {
   "cell_type": "markdown",
   "metadata": {
    "colab_type": "text",
    "id": "ojiaIWwWHMZx"
   },
   "source": [
    "## Loading BSD300 Dataset and adding Poisson noise\n"
   ]
  },
  {
   "cell_type": "code",
   "execution_count": 16,
   "metadata": {
    "colab": {
     "base_uri": "https://localhost:8080/",
     "height": 50
    },
    "colab_type": "code",
    "executionInfo": {
     "elapsed": 252884,
     "status": "ok",
     "timestamp": 1597231635408,
     "user": {
      "displayName": "Darlan Murilo Nakamura de Araujo",
      "photoUrl": "",
      "userId": "05286552425313295957"
     },
     "user_tz": 180
    },
    "id": "8LRZy8oXWY4g",
    "outputId": "756d95da-2abe-4bd5-a9d6-ab36b1662285"
   },
   "outputs": [
    {
     "name": "stderr",
     "output_type": "stream",
     "text": [
      "100%|██████████| 200/200 [03:06<00:00,  1.07it/s]\n",
      "100%|██████████| 100/100 [01:01<00:00,  1.61it/s]\n"
     ]
    }
   ],
   "source": [
    "y_train = []\n",
    "x_train = []\n",
    "\n",
    "for file in tqdm(glob(os.path.join('dataset/bsd300/train/*.jpg'))):\n",
    "  img = cv2.imread(file, cv2.IMREAD_GRAYSCALE)\n",
    "\n",
    "  patches = crop_image(img, height=50, width=50, stride=20)\n",
    "\n",
    "  for i in range(patches.shape[0]):\n",
    "    y_train.append(patches[i])\n",
    "    x_train.append(np.random.poisson(lam=patches[i], size=None))\n",
    "\n",
    "\n",
    "y_test = []\n",
    "x_test = []\n",
    "\n",
    "for file in tqdm(glob(os.path.join('dataset/bsd300/test/*.jpg'))):\n",
    "  img = cv2.imread(file, cv2.IMREAD_GRAYSCALE)\n",
    "\n",
    "  patches = crop_image(img, height=50, width=50, stride=20)\n",
    "\n",
    "  for i in range(patches.shape[0]):\n",
    "    y_test.append(patches[i])\n",
    "    x_test.append(np.random.poisson(lam=patches[i], size=None))"
   ]
  },
  {
   "cell_type": "code",
   "execution_count": 17,
   "metadata": {
    "colab": {},
    "colab_type": "code",
    "executionInfo": {
     "elapsed": 254174,
     "status": "ok",
     "timestamp": 1597231637005,
     "user": {
      "displayName": "Darlan Murilo Nakamura de Araujo",
      "photoUrl": "",
      "userId": "05286552425313295957"
     },
     "user_tz": 180
    },
    "id": "OunUWpbcYHvF"
   },
   "outputs": [],
   "source": [
    "y_train = np.array(y_train)\n",
    "x_train = np.array(x_train)\n",
    "\n",
    "y_test = np.array(y_test)\n",
    "x_test = np.array(x_test)"
   ]
  },
  {
   "cell_type": "code",
   "execution_count": 18,
   "metadata": {
    "colab": {
     "base_uri": "https://localhost:8080/",
     "height": 33
    },
    "colab_type": "code",
    "executionInfo": {
     "elapsed": 253885,
     "status": "ok",
     "timestamp": 1597231637011,
     "user": {
      "displayName": "Darlan Murilo Nakamura de Araujo",
      "photoUrl": "",
      "userId": "05286552425313295957"
     },
     "user_tz": 180
    },
    "id": "9otunwxTZfJe",
    "outputId": "5c175cfe-0a08-403f-a0ec-0e8d46de57a2"
   },
   "outputs": [
    {
     "data": {
      "text/plain": [
       "(61600, 50, 50)"
      ]
     },
     "execution_count": 18,
     "metadata": {
      "tags": []
     },
     "output_type": "execute_result"
    }
   ],
   "source": [
    "x_train.shape"
   ]
  },
  {
   "cell_type": "code",
   "execution_count": 19,
   "metadata": {
    "colab": {
     "base_uri": "https://localhost:8080/",
     "height": 33
    },
    "colab_type": "code",
    "executionInfo": {
     "elapsed": 253121,
     "status": "ok",
     "timestamp": 1597231637014,
     "user": {
      "displayName": "Darlan Murilo Nakamura de Araujo",
      "photoUrl": "",
      "userId": "05286552425313295957"
     },
     "user_tz": 180
    },
    "id": "0jf8BKfJZ4UA",
    "outputId": "8bdaa9ce-4619-4980-82e4-c29d7f5b6df7"
   },
   "outputs": [
    {
     "data": {
      "text/plain": [
       "(30800, 50, 50)"
      ]
     },
     "execution_count": 19,
     "metadata": {
      "tags": []
     },
     "output_type": "execute_result"
    }
   ],
   "source": [
    "x_test.shape"
   ]
  },
  {
   "cell_type": "code",
   "execution_count": 21,
   "metadata": {
    "colab": {
     "base_uri": "https://localhost:8080/",
     "height": 351
    },
    "colab_type": "code",
    "executionInfo": {
     "elapsed": 251510,
     "status": "ok",
     "timestamp": 1597231637017,
     "user": {
      "displayName": "Darlan Murilo Nakamura de Araujo",
      "photoUrl": "",
      "userId": "05286552425313295957"
     },
     "user_tz": 180
    },
    "id": "88YFejuuHMZ2",
    "outputId": "415fc7d0-3b7d-46b6-e4c4-f391588907ff"
   },
   "outputs": [
    {
     "data": {
      "image/png": "[encoded data removed]",
      "text/plain": [
       "<Figure size 864x576 with 2 Axes>"
      ]
     },
     "metadata": {
      "needs_background": "light",
      "tags": []
     },
     "output_type": "display_data"
    }
   ],
   "source": [
    "mostrar_lado_a_lado(imagens=[x_train[1500, :,:], y_train[1500,:,:]], titulos=['Ruidoso', 'Original'])"
   ]
  },
  {
   "cell_type": "code",
   "execution_count": 22,
   "metadata": {
    "colab": {
     "base_uri": "https://localhost:8080/",
     "height": 351
    },
    "colab_type": "code",
    "executionInfo": {
     "elapsed": 251029,
     "status": "ok",
     "timestamp": 1597231637469,
     "user": {
      "displayName": "Darlan Murilo Nakamura de Araujo",
      "photoUrl": "",
      "userId": "05286552425313295957"
     },
     "user_tz": 180
    },
    "id": "gkQOzMR3MAUp",
    "outputId": "ffd963df-4062-4266-9954-0f3bfa08ae8d"
   },
   "outputs": [
    {
     "data": {
      "image/png": "[encoded data removed]",
      "text/plain": [
       "<Figure size 864x576 with 2 Axes>"
      ]
     },
     "metadata": {
      "needs_background": "light",
      "tags": []
     },
     "output_type": "display_data"
    }
   ],
   "source": [
    "mostrar_lado_a_lado(imagens=[x_test[3010, :,:], y_test[3010,:,:]], titulos=['Ruidoso', 'Original'])"
   ]
  },
  {
   "cell_type": "markdown",
   "metadata": {
    "colab_type": "text",
    "id": "QFNJ6lFBHMaU"
   },
   "source": [
    "## Normalizing datasets between [0;1]"
   ]
  },
  {
   "cell_type": "code",
   "execution_count": 23,
   "metadata": {
    "colab": {},
    "colab_type": "code",
    "executionInfo": {
     "elapsed": 251262,
     "status": "ok",
     "timestamp": 1597231639136,
     "user": {
      "displayName": "Darlan Murilo Nakamura de Araujo",
      "photoUrl": "",
      "userId": "05286552425313295957"
     },
     "user_tz": 180
    },
    "id": "pIziCNGdHMaV"
   },
   "outputs": [],
   "source": [
    "x_train = cv2.normalize(x_train, None, alpha= 0, beta = 1, norm_type = cv2.NORM_MINMAX, dtype = cv2.CV_32F)\n",
    "y_train = cv2.normalize(y_train, None, alpha= 0, beta = 1, norm_type = cv2.NORM_MINMAX, dtype = cv2.CV_32F)\n",
    "\n",
    "\n",
    "x_test = cv2.normalize(x_test, None, alpha= 0, beta = 1, norm_type = cv2.NORM_MINMAX, dtype = cv2.CV_32F)\n",
    "y_test = cv2.normalize(y_test, None, alpha= 0, beta = 1, norm_type = cv2.NORM_MINMAX, dtype = cv2.CV_32F)"
   ]
  },
  {
   "cell_type": "markdown",
   "metadata": {
    "colab_type": "text",
    "id": "85YjiA2eHMaZ"
   },
   "source": [
    "## Adding color dimension"
   ]
  },
  {
   "cell_type": "code",
   "execution_count": 24,
   "metadata": {
    "colab": {},
    "colab_type": "code",
    "executionInfo": {
     "elapsed": 250230,
     "status": "ok",
     "timestamp": 1597231639143,
     "user": {
      "displayName": "Darlan Murilo Nakamura de Araujo",
      "photoUrl": "",
      "userId": "05286552425313295957"
     },
     "user_tz": 180
    },
    "id": "icx1xyDlHMaa"
   },
   "outputs": [],
   "source": [
    "x_train = adiciona_a_dimensao_das_cores(x_train)\n",
    "y_train = adiciona_a_dimensao_das_cores(y_train)\n",
    "\n",
    "x_test = adiciona_a_dimensao_das_cores(x_test)\n",
    "y_test = adiciona_a_dimensao_das_cores(y_test)"
   ]
  },
  {
   "cell_type": "code",
   "execution_count": 25,
   "metadata": {
    "colab": {
     "base_uri": "https://localhost:8080/",
     "height": 33
    },
    "colab_type": "code",
    "executionInfo": {
     "elapsed": 249319,
     "status": "ok",
     "timestamp": 1597231639145,
     "user": {
      "displayName": "Darlan Murilo Nakamura de Araujo",
      "photoUrl": "",
      "userId": "05286552425313295957"
     },
     "user_tz": 180
    },
    "id": "Iw5gnrNJHMad",
    "outputId": "dfcce69b-6e6c-47ee-ce12-8cbf068806c9"
   },
   "outputs": [
    {
     "data": {
      "text/plain": [
       "(61600, 50, 50, 1)"
      ]
     },
     "execution_count": 25,
     "metadata": {
      "tags": []
     },
     "output_type": "execute_result"
    }
   ],
   "source": [
    "x_train.shape"
   ]
  },
  {
   "cell_type": "code",
   "execution_count": 26,
   "metadata": {
    "colab": {
     "base_uri": "https://localhost:8080/",
     "height": 33
    },
    "colab_type": "code",
    "executionInfo": {
     "elapsed": 248609,
     "status": "ok",
     "timestamp": 1597231639146,
     "user": {
      "displayName": "Darlan Murilo Nakamura de Araujo",
      "photoUrl": "",
      "userId": "05286552425313295957"
     },
     "user_tz": 180
    },
    "id": "6DFJLsSOHMah",
    "outputId": "046d8f85-e7d7-4487-d977-b50138d2d0c5"
   },
   "outputs": [
    {
     "data": {
      "text/plain": [
       "(30800, 50, 50, 1)"
      ]
     },
     "execution_count": 26,
     "metadata": {
      "tags": []
     },
     "output_type": "execute_result"
    }
   ],
   "source": [
    "x_test.shape"
   ]
  },
  {
   "cell_type": "markdown",
   "metadata": {
    "colab_type": "text",
    "id": "5Qx-x9ReHMal"
   },
   "source": [
    "# Building model with Residual Learning"
   ]
  },
  {
   "cell_type": "code",
   "execution_count": 28,
   "metadata": {
    "colab": {},
    "colab_type": "code",
    "executionInfo": {
     "elapsed": 244316,
     "status": "ok",
     "timestamp": 1597231644891,
     "user": {
      "displayName": "Darlan Murilo Nakamura de Araujo",
      "photoUrl": "",
      "userId": "05286552425313295957"
     },
     "user_tz": 180
    },
    "id": "cuXJnSJuHMar"
   },
   "outputs": [],
   "source": [
    "model_with_subtract = build_dncnn_model(nb_layers=10, with_subtract=True)\n",
    "# model_with_subtract.summary()"
   ]
  },
  {
   "cell_type": "markdown",
   "metadata": {
    "colab_type": "text",
    "id": "QIpeYXkkHMal"
   },
   "source": [
    "## Hyper-parameters"
   ]
  },
  {
   "cell_type": "code",
   "execution_count": 29,
   "metadata": {
    "colab": {},
    "colab_type": "code",
    "executionInfo": {
     "elapsed": 243477,
     "status": "ok",
     "timestamp": 1597231644894,
     "user": {
      "displayName": "Darlan Murilo Nakamura de Araujo",
      "photoUrl": "",
      "userId": "05286552425313295957"
     },
     "user_tz": 180
    },
    "id": "jnYxzGicaVw1"
   },
   "outputs": [],
   "source": [
    "BATCH_SIZE = 128\n",
    "LEARNING_RATE = 0.001\n",
    "EPOCHS = 60"
   ]
  },
  {
   "cell_type": "code",
   "execution_count": 30,
   "metadata": {
    "colab": {},
    "colab_type": "code",
    "executionInfo": {
     "elapsed": 242967,
     "status": "ok",
     "timestamp": 1597231644895,
     "user": {
      "displayName": "Darlan Murilo Nakamura de Araujo",
      "photoUrl": "",
      "userId": "05286552425313295957"
     },
     "user_tz": 180
    },
    "id": "d53KCLIzHMaw"
   },
   "outputs": [],
   "source": [
    "model_with_subtract.compile(optimizer=keras.optimizers.Adam(LEARNING_RATE), loss='mse')"
   ]
  },
  {
   "cell_type": "markdown",
   "metadata": {
    "colab_type": "text",
    "id": "PJsWXze2HMaz"
   },
   "source": [
    "## Saving model checkpoint"
   ]
  },
  {
   "cell_type": "code",
   "execution_count": 37,
   "metadata": {
    "colab": {
     "base_uri": "https://localhost:8080/",
     "height": 33
    },
    "colab_type": "code",
    "executionInfo": {
     "elapsed": 691,
     "status": "ok",
     "timestamp": 1597197957406,
     "user": {
      "displayName": "Darlan Murilo Nakamura de Araujo",
      "photoUrl": "",
      "userId": "05286552425313295957"
     },
     "user_tz": 180
    },
    "id": "f_-ePoVvHMa0",
    "outputId": "67e8533e-b554-488c-8102-342074af4942"
   },
   "outputs": [
    {
     "name": "stdout",
     "output_type": "stream",
     "text": [
      "WARNING:tensorflow:`period` argument is deprecated. Please use `save_freq` to specify the frequency in number of batches seen.\n"
     ]
    }
   ],
   "source": [
    "checkpoint = keras.callbacks.ModelCheckpoint('checkpoints/dncnn-10l-with-rl-bsd300.hdf5', verbose=1, save_best_only=True, save_weights_only=False, period=1)"
   ]
  },
  {
   "cell_type": "markdown",
   "metadata": {
    "colab_type": "text",
    "id": "ndxX5wNhHMa3"
   },
   "source": [
    "# Training the model"
   ]
  },
  {
   "cell_type": "code",
   "execution_count": 39,
   "metadata": {
    "colab": {
     "base_uri": "https://localhost:8080/",
     "height": 1000
    },
    "colab_type": "code",
    "executionInfo": {
     "elapsed": 12464408,
     "status": "ok",
     "timestamp": 1597210448175,
     "user": {
      "displayName": "Darlan Murilo Nakamura de Araujo",
      "photoUrl": "",
      "userId": "05286552425313295957"
     },
     "user_tz": 180
    },
    "id": "Jwza7rjwHMa7",
    "outputId": "6cdc8c8d-deb9-4aab-9741-2becaa1e8b01"
   },
   "outputs": [
    {
     "name": "stdout",
     "output_type": "stream",
     "text": [
      "Epoch 1/60\n",
      "  2/482 [..............................] - ETA: 1:29 - loss: 1.4830WARNING:tensorflow:Callbacks method `on_train_batch_end` is slow compared to the batch time (batch time: 0.1377s vs `on_train_batch_end` time: 0.2344s). Check your callbacks.\n",
      "482/482 [==============================] - ETA: 0s - loss: 0.0134\n",
      "Epoch 00001: val_loss improved from inf to 0.00163, saving model to checkpoints/dncnn-10l-with-rl-bsd300.hdf5\n",
      "482/482 [==============================] - 208s 431ms/step - loss: 0.0134 - val_loss: 0.0016\n",
      "Epoch 2/60\n",
      "482/482 [==============================] - ETA: 0s - loss: 0.0013\n",
      "Epoch 00002: val_loss improved from 0.00163 to 0.00124, saving model to checkpoints/dncnn-10l-with-rl-bsd300.hdf5\n",
      "482/482 [==============================] - 208s 431ms/step - loss: 0.0013 - val_loss: 0.0012\n",
      "Epoch 3/60\n",
      "482/482 [==============================] - ETA: 0s - loss: 0.0011\n",
      "Epoch 00003: val_loss improved from 0.00124 to 0.00114, saving model to checkpoints/dncnn-10l-with-rl-bsd300.hdf5\n",
      "482/482 [==============================] - 208s 431ms/step - loss: 0.0011 - val_loss: 0.0011\n",
      "Epoch 4/60\n",
      "482/482 [==============================] - ETA: 0s - loss: 0.0010\n",
      "Epoch 00004: val_loss improved from 0.00114 to 0.00091, saving model to checkpoints/dncnn-10l-with-rl-bsd300.hdf5\n",
      "482/482 [==============================] - 208s 431ms/step - loss: 0.0010 - val_loss: 9.0563e-04\n",
      "Epoch 5/60\n",
      "482/482 [==============================] - ETA: 0s - loss: 9.6476e-04\n",
      "Epoch 00005: val_loss improved from 0.00091 to 0.00090, saving model to checkpoints/dncnn-10l-with-rl-bsd300.hdf5\n",
      "482/482 [==============================] - 207s 430ms/step - loss: 9.6476e-04 - val_loss: 9.0479e-04\n",
      "Epoch 6/60\n",
      "482/482 [==============================] - ETA: 0s - loss: 9.2340e-04\n",
      "Epoch 00006: val_loss improved from 0.00090 to 0.00082, saving model to checkpoints/dncnn-10l-with-rl-bsd300.hdf5\n",
      "482/482 [==============================] - 208s 431ms/step - loss: 9.2340e-04 - val_loss: 8.2398e-04\n",
      "Epoch 7/60\n",
      "482/482 [==============================] - ETA: 0s - loss: 8.8494e-04\n",
      "Epoch 00007: val_loss did not improve from 0.00082\n",
      "482/482 [==============================] - 209s 433ms/step - loss: 8.8494e-04 - val_loss: 8.5255e-04\n",
      "Epoch 8/60\n",
      "482/482 [==============================] - ETA: 0s - loss: 8.4220e-04\n",
      "Epoch 00008: val_loss did not improve from 0.00082\n",
      "482/482 [==============================] - 208s 433ms/step - loss: 8.4220e-04 - val_loss: 0.0011\n",
      "Epoch 9/60\n",
      "482/482 [==============================] - ETA: 0s - loss: 8.3464e-04\n",
      "Epoch 00009: val_loss did not improve from 0.00082\n",
      "482/482 [==============================] - 208s 431ms/step - loss: 8.3464e-04 - val_loss: 8.7003e-04\n",
      "Epoch 10/60\n",
      "482/482 [==============================] - ETA: 0s - loss: 7.7230e-04\n",
      "Epoch 00010: val_loss did not improve from 0.00082\n",
      "482/482 [==============================] - 207s 430ms/step - loss: 7.7230e-04 - val_loss: 0.0011\n",
      "Epoch 11/60\n",
      "482/482 [==============================] - ETA: 0s - loss: 7.6288e-04\n",
      "Epoch 00011: val_loss did not improve from 0.00082\n",
      "482/482 [==============================] - 207s 430ms/step - loss: 7.6288e-04 - val_loss: 9.0490e-04\n",
      "Epoch 12/60\n",
      "482/482 [==============================] - ETA: 0s - loss: 7.6176e-04\n",
      "Epoch 00012: val_loss did not improve from 0.00082\n",
      "482/482 [==============================] - 207s 430ms/step - loss: 7.6176e-04 - val_loss: 0.0018\n",
      "Epoch 13/60\n",
      "482/482 [==============================] - ETA: 0s - loss: 7.2105e-04\n",
      "Epoch 00013: val_loss improved from 0.00082 to 0.00076, saving model to checkpoints/dncnn-10l-with-rl-bsd300.hdf5\n",
      "482/482 [==============================] - 208s 431ms/step - loss: 7.2105e-04 - val_loss: 7.5824e-04\n",
      "Epoch 14/60\n",
      "482/482 [==============================] - ETA: 0s - loss: 7.0787e-04\n",
      "Epoch 00014: val_loss did not improve from 0.00076\n",
      "482/482 [==============================] - 207s 430ms/step - loss: 7.0787e-04 - val_loss: 0.0012\n",
      "Epoch 15/60\n",
      "482/482 [==============================] - ETA: 0s - loss: 6.8026e-04\n",
      "Epoch 00015: val_loss did not improve from 0.00076\n",
      "482/482 [==============================] - 207s 430ms/step - loss: 6.8026e-04 - val_loss: 0.0015\n",
      "Epoch 16/60\n",
      "482/482 [==============================] - ETA: 0s - loss: 7.0669e-04\n",
      "Epoch 00016: val_loss did not improve from 0.00076\n",
      "482/482 [==============================] - 207s 430ms/step - loss: 7.0669e-04 - val_loss: 0.0011\n",
      "Epoch 17/60\n",
      "482/482 [==============================] - ETA: 0s - loss: 6.7713e-04\n",
      "Epoch 00017: val_loss did not improve from 0.00076\n",
      "482/482 [==============================] - 207s 429ms/step - loss: 6.7713e-04 - val_loss: 0.0025\n",
      "Epoch 18/60\n",
      "482/482 [==============================] - ETA: 0s - loss: 6.6490e-04\n",
      "Epoch 00018: val_loss did not improve from 0.00076\n",
      "482/482 [==============================] - 207s 430ms/step - loss: 6.6490e-04 - val_loss: 9.8788e-04\n",
      "Epoch 19/60\n",
      "482/482 [==============================] - ETA: 0s - loss: 6.5146e-04\n",
      "Epoch 00019: val_loss did not improve from 0.00076\n",
      "482/482 [==============================] - 207s 429ms/step - loss: 6.5146e-04 - val_loss: 0.0023\n",
      "Epoch 20/60\n",
      "482/482 [==============================] - ETA: 0s - loss: 6.2560e-04\n",
      "Epoch 00020: val_loss improved from 0.00076 to 0.00075, saving model to checkpoints/dncnn-10l-with-rl-bsd300.hdf5\n",
      "482/482 [==============================] - 208s 431ms/step - loss: 6.2560e-04 - val_loss: 7.4768e-04\n",
      "Epoch 21/60\n",
      "482/482 [==============================] - ETA: 0s - loss: 6.3607e-04\n",
      "Epoch 00021: val_loss did not improve from 0.00075\n",
      "482/482 [==============================] - 207s 429ms/step - loss: 6.3607e-04 - val_loss: 0.0014\n",
      "Epoch 22/60\n",
      "482/482 [==============================] - ETA: 0s - loss: 6.1908e-04\n",
      "Epoch 00022: val_loss did not improve from 0.00075\n",
      "482/482 [==============================] - 207s 430ms/step - loss: 6.1908e-04 - val_loss: 9.1563e-04\n",
      "Epoch 23/60\n",
      "482/482 [==============================] - ETA: 0s - loss: 6.1266e-04\n",
      "Epoch 00023: val_loss did not improve from 0.00075\n",
      "482/482 [==============================] - 207s 430ms/step - loss: 6.1266e-04 - val_loss: 0.0020\n",
      "Epoch 24/60\n",
      "482/482 [==============================] - ETA: 0s - loss: 6.2093e-04\n",
      "Epoch 00024: val_loss improved from 0.00075 to 0.00071, saving model to checkpoints/dncnn-10l-with-rl-bsd300.hdf5\n",
      "482/482 [==============================] - 208s 432ms/step - loss: 6.2093e-04 - val_loss: 7.0786e-04\n",
      "Epoch 25/60\n",
      "482/482 [==============================] - ETA: 0s - loss: 5.9789e-04\n",
      "Epoch 00025: val_loss did not improve from 0.00071\n",
      "482/482 [==============================] - 208s 432ms/step - loss: 5.9789e-04 - val_loss: 0.0015\n",
      "Epoch 26/60\n",
      "482/482 [==============================] - ETA: 0s - loss: 6.0190e-04\n",
      "Epoch 00026: val_loss did not improve from 0.00071\n",
      "482/482 [==============================] - 207s 430ms/step - loss: 6.0190e-04 - val_loss: 8.1881e-04\n",
      "Epoch 27/60\n",
      "482/482 [==============================] - ETA: 0s - loss: 5.8938e-04\n",
      "Epoch 00027: val_loss did not improve from 0.00071\n",
      "482/482 [==============================] - 207s 429ms/step - loss: 5.8938e-04 - val_loss: 7.2749e-04\n",
      "Epoch 28/60\n",
      "482/482 [==============================] - ETA: 0s - loss: 5.9372e-04\n",
      "Epoch 00028: val_loss did not improve from 0.00071\n",
      "482/482 [==============================] - 207s 429ms/step - loss: 5.9372e-04 - val_loss: 0.0020\n",
      "Epoch 29/60\n",
      "482/482 [==============================] - ETA: 0s - loss: 5.8783e-04\n",
      "Epoch 00029: val_loss did not improve from 0.00071\n",
      "482/482 [==============================] - 207s 429ms/step - loss: 5.8783e-04 - val_loss: 7.8505e-04\n",
      "Epoch 30/60\n",
      "482/482 [==============================] - ETA: 0s - loss: 5.7393e-04\n",
      "Epoch 00030: val_loss did not improve from 0.00071\n",
      "482/482 [==============================] - 207s 429ms/step - loss: 5.7393e-04 - val_loss: 7.2371e-04\n",
      "Epoch 31/60\n",
      "482/482 [==============================] - ETA: 0s - loss: 5.6650e-04\n",
      "Epoch 00031: val_loss did not improve from 0.00071\n",
      "482/482 [==============================] - 207s 429ms/step - loss: 5.6650e-04 - val_loss: 0.0013\n",
      "Epoch 32/60\n",
      "482/482 [==============================] - ETA: 0s - loss: 5.7761e-04\n",
      "Epoch 00032: val_loss did not improve from 0.00071\n",
      "482/482 [==============================] - 207s 429ms/step - loss: 5.7761e-04 - val_loss: 7.5677e-04\n",
      "Epoch 33/60\n",
      "482/482 [==============================] - ETA: 0s - loss: 5.7040e-04\n",
      "Epoch 00033: val_loss did not improve from 0.00071\n",
      "482/482 [==============================] - 208s 432ms/step - loss: 5.7040e-04 - val_loss: 0.0016\n",
      "Epoch 34/60\n",
      "482/482 [==============================] - ETA: 0s - loss: 5.5935e-04\n",
      "Epoch 00034: val_loss did not improve from 0.00071\n",
      "482/482 [==============================] - 208s 432ms/step - loss: 5.5935e-04 - val_loss: 7.9196e-04\n",
      "Epoch 35/60\n",
      "482/482 [==============================] - ETA: 0s - loss: 5.5763e-04\n",
      "Epoch 00035: val_loss improved from 0.00071 to 0.00066, saving model to checkpoints/dncnn-10l-with-rl-bsd300.hdf5\n",
      "482/482 [==============================] - 208s 432ms/step - loss: 5.5763e-04 - val_loss: 6.5984e-04\n",
      "Epoch 36/60\n",
      "482/482 [==============================] - ETA: 0s - loss: 5.7380e-04\n",
      "Epoch 00036: val_loss did not improve from 0.00066\n",
      "482/482 [==============================] - 207s 430ms/step - loss: 5.7380e-04 - val_loss: 0.0015\n",
      "Epoch 37/60\n",
      "482/482 [==============================] - ETA: 0s - loss: 5.7452e-04\n",
      "Epoch 00037: val_loss did not improve from 0.00066\n",
      "482/482 [==============================] - 207s 429ms/step - loss: 5.7452e-04 - val_loss: 6.8741e-04\n",
      "Epoch 38/60\n",
      "482/482 [==============================] - ETA: 0s - loss: 5.5258e-04\n",
      "Epoch 00038: val_loss did not improve from 0.00066\n",
      "482/482 [==============================] - 207s 429ms/step - loss: 5.5258e-04 - val_loss: 0.0016\n",
      "Epoch 39/60\n",
      "482/482 [==============================] - ETA: 0s - loss: 5.4740e-04\n",
      "Epoch 00039: val_loss did not improve from 0.00066\n",
      "482/482 [==============================] - 207s 430ms/step - loss: 5.4740e-04 - val_loss: 7.9616e-04\n",
      "Epoch 40/60\n",
      "482/482 [==============================] - ETA: 0s - loss: 5.5050e-04\n",
      "Epoch 00040: val_loss did not improve from 0.00066\n",
      "482/482 [==============================] - 207s 430ms/step - loss: 5.5050e-04 - val_loss: 0.0022\n",
      "Epoch 41/60\n",
      "482/482 [==============================] - ETA: 0s - loss: 5.4239e-04\n",
      "Epoch 00041: val_loss did not improve from 0.00066\n",
      "482/482 [==============================] - 208s 432ms/step - loss: 5.4239e-04 - val_loss: 0.0013\n",
      "Epoch 42/60\n",
      "482/482 [==============================] - ETA: 0s - loss: 5.4657e-04\n",
      "Epoch 00042: val_loss did not improve from 0.00066\n",
      "482/482 [==============================] - 208s 432ms/step - loss: 5.4657e-04 - val_loss: 7.7386e-04\n",
      "Epoch 43/60\n",
      "482/482 [==============================] - ETA: 0s - loss: 5.3508e-04\n",
      "Epoch 00043: val_loss did not improve from 0.00066\n",
      "482/482 [==============================] - 207s 430ms/step - loss: 5.3508e-04 - val_loss: 7.7572e-04\n",
      "Epoch 44/60\n",
      "482/482 [==============================] - ETA: 0s - loss: 5.4221e-04\n",
      "Epoch 00044: val_loss did not improve from 0.00066\n",
      "482/482 [==============================] - 208s 432ms/step - loss: 5.4221e-04 - val_loss: 0.0013\n",
      "Epoch 45/60\n",
      "482/482 [==============================] - ETA: 0s - loss: 5.3883e-04\n",
      "Epoch 00045: val_loss did not improve from 0.00066\n",
      "482/482 [==============================] - 208s 433ms/step - loss: 5.3883e-04 - val_loss: 9.7134e-04\n",
      "Epoch 46/60\n",
      "482/482 [==============================] - ETA: 0s - loss: 5.3946e-04\n",
      "Epoch 00046: val_loss did not improve from 0.00066\n",
      "482/482 [==============================] - 208s 432ms/step - loss: 5.3946e-04 - val_loss: 0.0010\n",
      "Epoch 47/60\n",
      "482/482 [==============================] - ETA: 0s - loss: 8.0455e-04\n",
      "Epoch 00047: val_loss did not improve from 0.00066\n",
      "482/482 [==============================] - 208s 431ms/step - loss: 8.0455e-04 - val_loss: 0.0265\n",
      "Epoch 48/60\n",
      "482/482 [==============================] - ETA: 0s - loss: 6.2777e-04\n",
      "Epoch 00048: val_loss did not improve from 0.00066\n",
      "482/482 [==============================] - 208s 431ms/step - loss: 6.2777e-04 - val_loss: 6.6506e-04\n",
      "Epoch 49/60\n",
      "482/482 [==============================] - ETA: 0s - loss: 5.8760e-04\n",
      "Epoch 00049: val_loss did not improve from 0.00066\n",
      "482/482 [==============================] - 208s 431ms/step - loss: 5.8760e-04 - val_loss: 7.0122e-04\n",
      "Epoch 50/60\n",
      "482/482 [==============================] - ETA: 0s - loss: 5.7431e-04\n",
      "Epoch 00050: val_loss did not improve from 0.00066\n",
      "482/482 [==============================] - 207s 430ms/step - loss: 5.7431e-04 - val_loss: 8.6320e-04\n",
      "Epoch 51/60\n",
      "482/482 [==============================] - ETA: 0s - loss: 5.6724e-04\n",
      "Epoch 00051: val_loss did not improve from 0.00066\n",
      "482/482 [==============================] - 207s 429ms/step - loss: 5.6724e-04 - val_loss: 7.9432e-04\n",
      "Epoch 52/60\n",
      "482/482 [==============================] - ETA: 0s - loss: 5.6729e-04\n",
      "Epoch 00052: val_loss did not improve from 0.00066\n",
      "482/482 [==============================] - 207s 429ms/step - loss: 5.6729e-04 - val_loss: 6.7607e-04\n",
      "Epoch 53/60\n",
      "482/482 [==============================] - ETA: 0s - loss: 5.6106e-04\n",
      "Epoch 00053: val_loss did not improve from 0.00066\n",
      "482/482 [==============================] - 207s 429ms/step - loss: 5.6106e-04 - val_loss: 0.0012\n",
      "Epoch 54/60\n",
      "482/482 [==============================] - ETA: 0s - loss: 5.6346e-04\n",
      "Epoch 00054: val_loss did not improve from 0.00066\n",
      "482/482 [==============================] - 207s 429ms/step - loss: 5.6346e-04 - val_loss: 7.9758e-04\n",
      "Epoch 55/60\n",
      "482/482 [==============================] - ETA: 0s - loss: 5.4799e-04\n",
      "Epoch 00055: val_loss improved from 0.00066 to 0.00065, saving model to checkpoints/dncnn-10l-with-rl-bsd300.hdf5\n",
      "482/482 [==============================] - 208s 431ms/step - loss: 5.4799e-04 - val_loss: 6.4887e-04\n",
      "Epoch 56/60\n",
      "482/482 [==============================] - ETA: 0s - loss: 5.4138e-04\n",
      "Epoch 00056: val_loss did not improve from 0.00065\n",
      "482/482 [==============================] - 208s 431ms/step - loss: 5.4138e-04 - val_loss: 7.1782e-04\n",
      "Epoch 57/60\n",
      "482/482 [==============================] - ETA: 0s - loss: 5.6042e-04\n",
      "Epoch 00057: val_loss improved from 0.00065 to 0.00064, saving model to checkpoints/dncnn-10l-with-rl-bsd300.hdf5\n",
      "482/482 [==============================] - 208s 431ms/step - loss: 5.6042e-04 - val_loss: 6.4411e-04\n",
      "Epoch 58/60\n",
      "482/482 [==============================] - ETA: 0s - loss: 5.4606e-04\n",
      "Epoch 00058: val_loss did not improve from 0.00064\n",
      "482/482 [==============================] - 208s 431ms/step - loss: 5.4606e-04 - val_loss: 6.5645e-04\n",
      "Epoch 59/60\n",
      "482/482 [==============================] - ETA: 0s - loss: 5.4408e-04\n",
      "Epoch 00059: val_loss improved from 0.00064 to 0.00061, saving model to checkpoints/dncnn-10l-with-rl-bsd300.hdf5\n",
      "482/482 [==============================] - 207s 429ms/step - loss: 5.4408e-04 - val_loss: 6.0623e-04\n",
      "Epoch 60/60\n",
      "482/482 [==============================] - ETA: 0s - loss: 5.3837e-04\n",
      "Epoch 00060: val_loss did not improve from 0.00061\n",
      "482/482 [==============================] - 207s 430ms/step - loss: 5.3837e-04 - val_loss: 8.9458e-04\n"
     ]
    }
   ],
   "source": [
    "history = model_with_subtract.fit(\n",
    "    x_train,\n",
    "    y_train,\n",
    "    validation_data=(x_test, y_test),\n",
    "    batch_size=BATCH_SIZE,\n",
    "    shuffle=True,\n",
    "    epochs=EPOCHS, \n",
    "    verbose=1,\n",
    "    callbacks=[checkpoint]\n",
    ")"
   ]
  },
  {
   "cell_type": "code",
   "execution_count": 40,
   "metadata": {
    "colab": {
     "base_uri": "https://localhost:8080/",
     "height": 281
    },
    "colab_type": "code",
    "executionInfo": {
     "elapsed": 1386,
     "status": "ok",
     "timestamp": 1597210449590,
     "user": {
      "displayName": "Darlan Murilo Nakamura de Araujo",
      "photoUrl": "",
      "userId": "05286552425313295957"
     },
     "user_tz": 180
    },
    "id": "0p0topMba4ZR",
    "outputId": "48138c8e-3df8-4838-debd-aaa292ebcb63"
   },
   "outputs": [
    {
     "data": {
      "text/plain": [
       "<matplotlib.legend.Legend at 0x7f9733426898>"
      ]
     },
     "execution_count": 40,
     "metadata": {
      "tags": []
     },
     "output_type": "execute_result"
    },
    {
     "data": {
      "image/png": "[encoded data removed]",
      "text/plain": [
       "<Figure size 432x288 with 1 Axes>"
      ]
     },
     "metadata": {
      "needs_background": "light",
      "tags": []
     },
     "output_type": "display_data"
    }
   ],
   "source": [
    "plt.plot(history.history['loss'])\n",
    "plt.plot(history.history['val_loss'])\n",
    "plt.legend(['loss', 'val. loss'])"
   ]
  },
  {
   "cell_type": "markdown",
   "metadata": {
    "colab_type": "text",
    "id": "7xz1ZzlZbptt"
   },
   "source": [
    "# Building the model without RL"
   ]
  },
  {
   "cell_type": "code",
   "execution_count": 31,
   "metadata": {
    "colab": {
     "base_uri": "https://localhost:8080/",
     "height": 33
    },
    "colab_type": "code",
    "executionInfo": {
     "elapsed": 1785,
     "status": "ok",
     "timestamp": 1597231646708,
     "user": {
      "displayName": "Darlan Murilo Nakamura de Araujo",
      "photoUrl": "",
      "userId": "05286552425313295957"
     },
     "user_tz": 180
    },
    "id": "oLN7Df2NbwHq",
    "outputId": "04b36777-1b07-4fa7-8168-3e65b711b06a"
   },
   "outputs": [
    {
     "name": "stdout",
     "output_type": "stream",
     "text": [
      "WARNING:tensorflow:`period` argument is deprecated. Please use `save_freq` to specify the frequency in number of batches seen.\n"
     ]
    }
   ],
   "source": [
    "model_without_subtract = build_dncnn_model(nb_layers=10, with_subtract=False)\n",
    "model_without_subtract.compile(optimizer=keras.optimizers.Adam(LEARNING_RATE), loss='mse')\n",
    "checkpoint = keras.callbacks.ModelCheckpoint('checkpoints/dncnn-10l-without-rl-bsd300.hdf5', verbose=1, save_best_only=True, save_weights_only=False, period=1)"
   ]
  },
  {
   "cell_type": "code",
   "execution_count": 42,
   "metadata": {
    "colab": {
     "base_uri": "https://localhost:8080/",
     "height": 1000
    },
    "colab_type": "code",
    "executionInfo": {
     "elapsed": 12453970,
     "status": "ok",
     "timestamp": 1597222904376,
     "user": {
      "displayName": "Darlan Murilo Nakamura de Araujo",
      "photoUrl": "",
      "userId": "05286552425313295957"
     },
     "user_tz": 180
    },
    "id": "7B06nPBqbzSZ",
    "outputId": "192f5b5c-ec3d-4ee1-b6b9-47c2e13635f9"
   },
   "outputs": [
    {
     "name": "stdout",
     "output_type": "stream",
     "text": [
      "Epoch 1/60\n",
      "  2/482 [..............................] - ETA: 2:26 - loss: 1.4601WARNING:tensorflow:Callbacks method `on_train_batch_end` is slow compared to the batch time (batch time: 0.1340s vs `on_train_batch_end` time: 0.2368s). Check your callbacks.\n",
      "482/482 [==============================] - ETA: 0s - loss: 0.0139\n",
      "Epoch 00001: val_loss improved from inf to 0.01377, saving model to checkpoints/dncnn-10l-without-rl-bsd300.hdf5\n",
      "482/482 [==============================] - 208s 432ms/step - loss: 0.0139 - val_loss: 0.0138\n",
      "Epoch 2/60\n",
      "482/482 [==============================] - ETA: 0s - loss: 0.0024\n",
      "Epoch 00002: val_loss improved from 0.01377 to 0.00298, saving model to checkpoints/dncnn-10l-without-rl-bsd300.hdf5\n",
      "482/482 [==============================] - 208s 431ms/step - loss: 0.0024 - val_loss: 0.0030\n",
      "Epoch 3/60\n",
      "482/482 [==============================] - ETA: 0s - loss: 0.0020\n",
      "Epoch 00003: val_loss did not improve from 0.00298\n",
      "482/482 [==============================] - 207s 430ms/step - loss: 0.0020 - val_loss: 0.0030\n",
      "Epoch 4/60\n",
      "482/482 [==============================] - ETA: 0s - loss: 0.0017\n",
      "Epoch 00004: val_loss did not improve from 0.00298\n",
      "482/482 [==============================] - 207s 430ms/step - loss: 0.0017 - val_loss: 0.0048\n",
      "Epoch 5/60\n",
      "482/482 [==============================] - ETA: 0s - loss: 0.0017\n",
      "Epoch 00005: val_loss improved from 0.00298 to 0.00200, saving model to checkpoints/dncnn-10l-without-rl-bsd300.hdf5\n",
      "482/482 [==============================] - 208s 431ms/step - loss: 0.0017 - val_loss: 0.0020\n",
      "Epoch 6/60\n",
      "482/482 [==============================] - ETA: 0s - loss: 0.0016\n",
      "Epoch 00006: val_loss did not improve from 0.00200\n",
      "482/482 [==============================] - 207s 430ms/step - loss: 0.0016 - val_loss: 0.0025\n",
      "Epoch 7/60\n",
      "482/482 [==============================] - ETA: 0s - loss: 0.0014\n",
      "Epoch 00007: val_loss improved from 0.00200 to 0.00142, saving model to checkpoints/dncnn-10l-without-rl-bsd300.hdf5\n",
      "482/482 [==============================] - 208s 431ms/step - loss: 0.0014 - val_loss: 0.0014\n",
      "Epoch 8/60\n",
      "482/482 [==============================] - ETA: 0s - loss: 0.0013\n",
      "Epoch 00008: val_loss did not improve from 0.00142\n",
      "482/482 [==============================] - 207s 430ms/step - loss: 0.0013 - val_loss: 0.0016\n",
      "Epoch 9/60\n",
      "482/482 [==============================] - ETA: 0s - loss: 0.0013\n",
      "Epoch 00009: val_loss did not improve from 0.00142\n",
      "482/482 [==============================] - 207s 430ms/step - loss: 0.0013 - val_loss: 0.0031\n",
      "Epoch 10/60\n",
      "482/482 [==============================] - ETA: 0s - loss: 0.0013\n",
      "Epoch 00010: val_loss did not improve from 0.00142\n",
      "482/482 [==============================] - 207s 430ms/step - loss: 0.0013 - val_loss: 0.0014\n",
      "Epoch 11/60\n",
      "482/482 [==============================] - ETA: 0s - loss: 0.0013\n",
      "Epoch 00011: val_loss did not improve from 0.00142\n",
      "482/482 [==============================] - 207s 430ms/step - loss: 0.0013 - val_loss: 0.0018\n",
      "Epoch 12/60\n",
      "482/482 [==============================] - ETA: 0s - loss: 0.0012\n",
      "Epoch 00012: val_loss did not improve from 0.00142\n",
      "482/482 [==============================] - 207s 429ms/step - loss: 0.0012 - val_loss: 0.0038\n",
      "Epoch 13/60\n",
      "482/482 [==============================] - ETA: 0s - loss: 0.0013\n",
      "Epoch 00013: val_loss did not improve from 0.00142\n",
      "482/482 [==============================] - 207s 429ms/step - loss: 0.0013 - val_loss: 0.0361\n",
      "Epoch 14/60\n",
      "482/482 [==============================] - ETA: 0s - loss: 0.0015\n",
      "Epoch 00014: val_loss did not improve from 0.00142\n",
      "482/482 [==============================] - 207s 429ms/step - loss: 0.0015 - val_loss: 0.0023\n",
      "Epoch 15/60\n",
      "482/482 [==============================] - ETA: 0s - loss: 0.0013\n",
      "Epoch 00015: val_loss improved from 0.00142 to 0.00102, saving model to checkpoints/dncnn-10l-without-rl-bsd300.hdf5\n",
      "482/482 [==============================] - 207s 430ms/step - loss: 0.0013 - val_loss: 0.0010\n",
      "Epoch 16/60\n",
      "482/482 [==============================] - ETA: 0s - loss: 0.0012\n",
      "Epoch 00016: val_loss did not improve from 0.00102\n",
      "482/482 [==============================] - 208s 431ms/step - loss: 0.0012 - val_loss: 0.0014\n",
      "Epoch 17/60\n",
      "482/482 [==============================] - ETA: 0s - loss: 0.0010\n",
      "Epoch 00017: val_loss did not improve from 0.00102\n",
      "482/482 [==============================] - 207s 429ms/step - loss: 0.0010 - val_loss: 0.0011\n",
      "Epoch 18/60\n",
      "482/482 [==============================] - ETA: 0s - loss: 0.0012\n",
      "Epoch 00018: val_loss did not improve from 0.00102\n",
      "482/482 [==============================] - 207s 429ms/step - loss: 0.0012 - val_loss: 0.0027\n",
      "Epoch 19/60\n",
      "482/482 [==============================] - ETA: 0s - loss: 0.0012\n",
      "Epoch 00019: val_loss did not improve from 0.00102\n",
      "482/482 [==============================] - 207s 429ms/step - loss: 0.0012 - val_loss: 0.0015\n",
      "Epoch 20/60\n",
      "482/482 [==============================] - ETA: 0s - loss: 0.0011\n",
      "Epoch 00020: val_loss improved from 0.00102 to 0.00098, saving model to checkpoints/dncnn-10l-without-rl-bsd300.hdf5\n",
      "482/482 [==============================] - 207s 430ms/step - loss: 0.0011 - val_loss: 9.8288e-04\n",
      "Epoch 21/60\n",
      "482/482 [==============================] - ETA: 0s - loss: 0.0010\n",
      "Epoch 00021: val_loss did not improve from 0.00098\n",
      "482/482 [==============================] - 208s 431ms/step - loss: 0.0010 - val_loss: 0.0055\n",
      "Epoch 22/60\n",
      "482/482 [==============================] - ETA: 0s - loss: 0.0011\n",
      "Epoch 00022: val_loss did not improve from 0.00098\n",
      "482/482 [==============================] - 209s 433ms/step - loss: 0.0011 - val_loss: 0.0031\n",
      "Epoch 23/60\n",
      "482/482 [==============================] - ETA: 0s - loss: 0.0011\n",
      "Epoch 00023: val_loss did not improve from 0.00098\n",
      "482/482 [==============================] - 209s 433ms/step - loss: 0.0011 - val_loss: 0.0019\n",
      "Epoch 24/60\n",
      "482/482 [==============================] - ETA: 0s - loss: 0.0011\n",
      "Epoch 00024: val_loss did not improve from 0.00098\n",
      "482/482 [==============================] - 208s 431ms/step - loss: 0.0011 - val_loss: 0.0012\n",
      "Epoch 25/60\n",
      "482/482 [==============================] - ETA: 0s - loss: 0.0011\n",
      "Epoch 00025: val_loss did not improve from 0.00098\n",
      "482/482 [==============================] - 207s 430ms/step - loss: 0.0011 - val_loss: 0.0052\n",
      "Epoch 26/60\n",
      "482/482 [==============================] - ETA: 0s - loss: 9.8993e-04\n",
      "Epoch 00026: val_loss did not improve from 0.00098\n",
      "482/482 [==============================] - 208s 432ms/step - loss: 9.8993e-04 - val_loss: 0.0023\n",
      "Epoch 27/60\n",
      "482/482 [==============================] - ETA: 0s - loss: 9.6840e-04\n",
      "Epoch 00027: val_loss did not improve from 0.00098\n",
      "482/482 [==============================] - 208s 432ms/step - loss: 9.6840e-04 - val_loss: 0.0012\n",
      "Epoch 28/60\n",
      "482/482 [==============================] - ETA: 0s - loss: 9.2751e-04\n",
      "Epoch 00028: val_loss did not improve from 0.00098\n",
      "482/482 [==============================] - 207s 430ms/step - loss: 9.2751e-04 - val_loss: 0.0018\n",
      "Epoch 29/60\n",
      "482/482 [==============================] - ETA: 0s - loss: 9.1649e-04\n",
      "Epoch 00029: val_loss did not improve from 0.00098\n",
      "482/482 [==============================] - 208s 432ms/step - loss: 9.1649e-04 - val_loss: 0.0013\n",
      "Epoch 30/60\n",
      "482/482 [==============================] - ETA: 0s - loss: 8.4860e-04\n",
      "Epoch 00030: val_loss did not improve from 0.00098\n",
      "482/482 [==============================] - 208s 431ms/step - loss: 8.4860e-04 - val_loss: 0.0030\n",
      "Epoch 31/60\n",
      "482/482 [==============================] - ETA: 0s - loss: 7.7633e-04\n",
      "Epoch 00031: val_loss did not improve from 0.00098\n",
      "482/482 [==============================] - 208s 431ms/step - loss: 7.7633e-04 - val_loss: 0.0011\n",
      "Epoch 32/60\n",
      "482/482 [==============================] - ETA: 0s - loss: 7.3679e-04\n",
      "Epoch 00032: val_loss did not improve from 0.00098\n",
      "482/482 [==============================] - 207s 430ms/step - loss: 7.3679e-04 - val_loss: 0.0020\n",
      "Epoch 33/60\n",
      "482/482 [==============================] - ETA: 0s - loss: 7.1100e-04\n",
      "Epoch 00033: val_loss did not improve from 0.00098\n",
      "482/482 [==============================] - 207s 429ms/step - loss: 7.1100e-04 - val_loss: 0.0013\n",
      "Epoch 34/60\n",
      "482/482 [==============================] - ETA: 0s - loss: 6.9337e-04\n",
      "Epoch 00034: val_loss improved from 0.00098 to 0.00095, saving model to checkpoints/dncnn-10l-without-rl-bsd300.hdf5\n",
      "482/482 [==============================] - 208s 431ms/step - loss: 6.9337e-04 - val_loss: 9.5442e-04\n",
      "Epoch 35/60\n",
      "482/482 [==============================] - ETA: 0s - loss: 7.5118e-04\n",
      "Epoch 00035: val_loss did not improve from 0.00095\n",
      "482/482 [==============================] - 207s 429ms/step - loss: 7.5118e-04 - val_loss: 0.0016\n",
      "Epoch 36/60\n",
      "482/482 [==============================] - ETA: 0s - loss: 6.8135e-04\n",
      "Epoch 00036: val_loss did not improve from 0.00095\n",
      "482/482 [==============================] - 207s 429ms/step - loss: 6.8135e-04 - val_loss: 9.7344e-04\n",
      "Epoch 37/60\n",
      "482/482 [==============================] - ETA: 0s - loss: 7.0128e-04\n",
      "Epoch 00037: val_loss did not improve from 0.00095\n",
      "482/482 [==============================] - 207s 430ms/step - loss: 7.0128e-04 - val_loss: 0.0022\n",
      "Epoch 38/60\n",
      "482/482 [==============================] - ETA: 0s - loss: 6.5643e-04\n",
      "Epoch 00038: val_loss did not improve from 0.00095\n",
      "482/482 [==============================] - 208s 432ms/step - loss: 6.5643e-04 - val_loss: 0.0011\n",
      "Epoch 39/60\n",
      "482/482 [==============================] - ETA: 0s - loss: 6.6176e-04\n",
      "Epoch 00039: val_loss did not improve from 0.00095\n",
      "482/482 [==============================] - 209s 433ms/step - loss: 6.6176e-04 - val_loss: 9.7273e-04\n",
      "Epoch 40/60\n",
      "482/482 [==============================] - ETA: 0s - loss: 7.3756e-04\n",
      "Epoch 00040: val_loss did not improve from 0.00095\n",
      "482/482 [==============================] - 209s 433ms/step - loss: 7.3756e-04 - val_loss: 0.0017\n",
      "Epoch 41/60\n",
      "482/482 [==============================] - ETA: 0s - loss: 6.5491e-04\n",
      "Epoch 00041: val_loss improved from 0.00095 to 0.00066, saving model to checkpoints/dncnn-10l-without-rl-bsd300.hdf5\n",
      "482/482 [==============================] - 208s 432ms/step - loss: 6.5491e-04 - val_loss: 6.5673e-04\n",
      "Epoch 42/60\n",
      "482/482 [==============================] - ETA: 0s - loss: 6.3919e-04\n",
      "Epoch 00042: val_loss did not improve from 0.00066\n",
      "482/482 [==============================] - 207s 429ms/step - loss: 6.3919e-04 - val_loss: 0.0011\n",
      "Epoch 43/60\n",
      "482/482 [==============================] - ETA: 0s - loss: 6.2072e-04\n",
      "Epoch 00043: val_loss did not improve from 0.00066\n",
      "482/482 [==============================] - 207s 428ms/step - loss: 6.2072e-04 - val_loss: 7.4175e-04\n",
      "Epoch 44/60\n",
      "482/482 [==============================] - ETA: 0s - loss: 6.6173e-04\n",
      "Epoch 00044: val_loss did not improve from 0.00066\n",
      "482/482 [==============================] - 207s 429ms/step - loss: 6.6173e-04 - val_loss: 9.8627e-04\n",
      "Epoch 45/60\n",
      "482/482 [==============================] - ETA: 0s - loss: 6.1617e-04\n",
      "Epoch 00045: val_loss did not improve from 0.00066\n",
      "482/482 [==============================] - 207s 429ms/step - loss: 6.1617e-04 - val_loss: 8.3883e-04\n",
      "Epoch 46/60\n",
      "482/482 [==============================] - ETA: 0s - loss: 6.3983e-04\n",
      "Epoch 00046: val_loss did not improve from 0.00066\n",
      "482/482 [==============================] - 207s 430ms/step - loss: 6.3983e-04 - val_loss: 0.0012\n",
      "Epoch 47/60\n",
      "482/482 [==============================] - ETA: 0s - loss: 6.5039e-04\n",
      "Epoch 00047: val_loss did not improve from 0.00066\n",
      "482/482 [==============================] - 207s 430ms/step - loss: 6.5039e-04 - val_loss: 0.0012\n",
      "Epoch 48/60\n",
      "482/482 [==============================] - ETA: 0s - loss: 6.5468e-04\n",
      "Epoch 00048: val_loss did not improve from 0.00066\n",
      "482/482 [==============================] - 207s 430ms/step - loss: 6.5468e-04 - val_loss: 0.0018\n",
      "Epoch 49/60\n",
      "482/482 [==============================] - ETA: 0s - loss: 6.3952e-04\n",
      "Epoch 00049: val_loss did not improve from 0.00066\n",
      "482/482 [==============================] - 207s 430ms/step - loss: 6.3952e-04 - val_loss: 6.6617e-04\n",
      "Epoch 50/60\n",
      "482/482 [==============================] - ETA: 0s - loss: 6.2695e-04\n",
      "Epoch 00050: val_loss did not improve from 0.00066\n",
      "482/482 [==============================] - 207s 430ms/step - loss: 6.2695e-04 - val_loss: 0.0011\n",
      "Epoch 51/60\n",
      "482/482 [==============================] - ETA: 0s - loss: 6.3613e-04\n",
      "Epoch 00051: val_loss did not improve from 0.00066\n",
      "482/482 [==============================] - 207s 430ms/step - loss: 6.3613e-04 - val_loss: 0.0010\n",
      "Epoch 52/60\n",
      "482/482 [==============================] - ETA: 0s - loss: 6.1429e-04\n",
      "Epoch 00052: val_loss did not improve from 0.00066\n",
      "482/482 [==============================] - 207s 430ms/step - loss: 6.1429e-04 - val_loss: 7.9926e-04\n",
      "Epoch 53/60\n",
      "482/482 [==============================] - ETA: 0s - loss: 6.0997e-04\n",
      "Epoch 00053: val_loss did not improve from 0.00066\n",
      "482/482 [==============================] - 207s 430ms/step - loss: 6.0997e-04 - val_loss: 6.9071e-04\n",
      "Epoch 54/60\n",
      "482/482 [==============================] - ETA: 0s - loss: 6.5061e-04\n",
      "Epoch 00054: val_loss did not improve from 0.00066\n",
      "482/482 [==============================] - 207s 430ms/step - loss: 6.5061e-04 - val_loss: 9.1441e-04\n",
      "Epoch 55/60\n",
      "482/482 [==============================] - ETA: 0s - loss: 6.2123e-04\n",
      "Epoch 00055: val_loss did not improve from 0.00066\n",
      "482/482 [==============================] - 207s 429ms/step - loss: 6.2123e-04 - val_loss: 0.0012\n",
      "Epoch 56/60\n",
      "482/482 [==============================] - ETA: 0s - loss: 6.4474e-04\n",
      "Epoch 00056: val_loss did not improve from 0.00066\n",
      "482/482 [==============================] - 207s 429ms/step - loss: 6.4474e-04 - val_loss: 9.2950e-04\n",
      "Epoch 57/60\n",
      "482/482 [==============================] - ETA: 0s - loss: 5.9778e-04\n",
      "Epoch 00057: val_loss did not improve from 0.00066\n",
      "482/482 [==============================] - 207s 429ms/step - loss: 5.9778e-04 - val_loss: 0.0011\n",
      "Epoch 58/60\n",
      "482/482 [==============================] - ETA: 0s - loss: 5.8094e-04\n",
      "Epoch 00058: val_loss did not improve from 0.00066\n",
      "482/482 [==============================] - 207s 429ms/step - loss: 5.8094e-04 - val_loss: 9.7982e-04\n",
      "Epoch 59/60\n",
      "482/482 [==============================] - ETA: 0s - loss: 6.1359e-04\n",
      "Epoch 00059: val_loss did not improve from 0.00066\n",
      "482/482 [==============================] - 207s 429ms/step - loss: 6.1359e-04 - val_loss: 0.0015\n",
      "Epoch 60/60\n",
      "482/482 [==============================] - ETA: 0s - loss: 6.1490e-04\n",
      "Epoch 00060: val_loss improved from 0.00066 to 0.00065, saving model to checkpoints/dncnn-10l-without-rl-bsd300.hdf5\n",
      "482/482 [==============================] - 207s 430ms/step - loss: 6.1490e-04 - val_loss: 6.5242e-04\n"
     ]
    }
   ],
   "source": [
    "hist_without_subtract = model_without_subtract.fit(\n",
    "    x_train,\n",
    "    y_train,\n",
    "    validation_data=(x_test, y_test),\n",
    "    batch_size=BATCH_SIZE,\n",
    "    shuffle=True,\n",
    "    epochs=EPOCHS, \n",
    "    verbose=1,\n",
    "    callbacks=[checkpoint]\n",
    ")"
   ]
  },
  {
   "cell_type": "code",
   "execution_count": 43,
   "metadata": {
    "colab": {
     "base_uri": "https://localhost:8080/",
     "height": 281
    },
    "colab_type": "code",
    "executionInfo": {
     "elapsed": 840,
     "status": "ok",
     "timestamp": 1597222907241,
     "user": {
      "displayName": "Darlan Murilo Nakamura de Araujo",
      "photoUrl": "",
      "userId": "05286552425313295957"
     },
     "user_tz": 180
    },
    "id": "ugFkbxatb8kz",
    "outputId": "c2dd3aeb-a53f-473e-b969-3804fa37fffb"
   },
   "outputs": [
    {
     "data": {
      "text/plain": [
       "<matplotlib.legend.Legend at 0x7f97327e4ba8>"
      ]
     },
     "execution_count": 43,
     "metadata": {
      "tags": []
     },
     "output_type": "execute_result"
    },
    {
     "data": {
      "image/png": "[encoded data removed]",
      "text/plain": [
       "<Figure size 432x288 with 1 Axes>"
      ]
     },
     "metadata": {
      "needs_background": "light",
      "tags": []
     },
     "output_type": "display_data"
    }
   ],
   "source": [
    "plt.plot(hist_without_subtract.history['loss'])\n",
    "plt.plot(hist_without_subtract.history['val_loss'])\n",
    "plt.legend(['loss', 'val. loss'])"
   ]
  },
  {
   "cell_type": "markdown",
   "metadata": {
    "colab_type": "text",
    "id": "7pSaO6StHMbA"
   },
   "source": [
    "# Testing the models"
   ]
  },
  {
   "cell_type": "code",
   "execution_count": 32,
   "metadata": {
    "colab": {},
    "colab_type": "code",
    "executionInfo": {
     "elapsed": 3929,
     "status": "ok",
     "timestamp": 1597231648857,
     "user": {
      "displayName": "Darlan Murilo Nakamura de Araujo",
      "photoUrl": "",
      "userId": "05286552425313295957"
     },
     "user_tz": 180
    },
    "id": "HG_qtVmPHMbB"
   },
   "outputs": [],
   "source": [
    "model_with_subtract.load_weights('checkpoints/dncnn-10l-with-rl-bsd300.hdf5')\n",
    "model_without_subtract.load_weights('checkpoints/dncnn-10l-without-rl-bsd300.hdf5')"
   ]
  },
  {
   "cell_type": "markdown",
   "metadata": {
    "colab_type": "text",
    "id": "Dc706U_KHMbG"
   },
   "source": [
    "## Denoising in test projections"
   ]
  },
  {
   "cell_type": "code",
   "execution_count": 33,
   "metadata": {
    "colab": {
     "base_uri": "https://localhost:8080/",
     "height": 87
    },
    "colab_type": "code",
    "executionInfo": {
     "elapsed": 38859,
     "status": "ok",
     "timestamp": 1597231700470,
     "user": {
      "displayName": "Darlan Murilo Nakamura de Araujo",
      "photoUrl": "",
      "userId": "05286552425313295957"
     },
     "user_tz": 180
    },
    "id": "jNmTuar2HMbH",
    "outputId": "0110fb09-203d-41e0-fca9-d0f6e1eee927"
   },
   "outputs": [
    {
     "name": "stdout",
     "output_type": "stream",
     "text": [
      "WARNING:tensorflow:Callbacks method `on_predict_batch_end` is slow compared to the batch time (batch time: 0.0041s vs `on_predict_batch_end` time: 0.0395s). Check your callbacks.\n",
      "963/963 - 32s\n"
     ]
    },
    {
     "data": {
      "text/plain": [
       "(30800, 50, 50, 1)"
      ]
     },
     "execution_count": 33,
     "metadata": {
      "tags": []
     },
     "output_type": "execute_result"
    }
   ],
   "source": [
    "predicted_with_subtract = model_with_subtract.predict(x_test, verbose=2)\n",
    "predicted_with_subtract.shape"
   ]
  },
  {
   "cell_type": "code",
   "execution_count": 34,
   "metadata": {
    "colab": {
     "base_uri": "https://localhost:8080/",
     "height": 87
    },
    "colab_type": "code",
    "executionInfo": {
     "elapsed": 70044,
     "status": "ok",
     "timestamp": 1597231732858,
     "user": {
      "displayName": "Darlan Murilo Nakamura de Araujo",
      "photoUrl": "",
      "userId": "05286552425313295957"
     },
     "user_tz": 180
    },
    "id": "2RBDaSetck87",
    "outputId": "640bea84-c2ec-4dc8-b217-9163e589a5c6"
   },
   "outputs": [
    {
     "name": "stdout",
     "output_type": "stream",
     "text": [
      "WARNING:tensorflow:Callbacks method `on_predict_batch_end` is slow compared to the batch time (batch time: 0.0036s vs `on_predict_batch_end` time: 0.0282s). Check your callbacks.\n",
      "963/963 - 32s\n"
     ]
    },
    {
     "data": {
      "text/plain": [
       "(30800, 50, 50, 1)"
      ]
     },
     "execution_count": 34,
     "metadata": {
      "tags": []
     },
     "output_type": "execute_result"
    }
   ],
   "source": [
    "predicted_without_subtract = model_without_subtract.predict(x_test, verbose=2)\n",
    "predicted_without_subtract.shape"
   ]
  },
  {
   "cell_type": "markdown",
   "metadata": {
    "colab_type": "text",
    "id": "bgDywqwEHMbr"
   },
   "source": [
    "## Visual comparison"
   ]
  },
  {
   "cell_type": "code",
   "execution_count": 35,
   "metadata": {
    "colab": {
     "base_uri": "https://localhost:8080/",
     "height": 192
    },
    "colab_type": "code",
    "executionInfo": {
     "elapsed": 69102,
     "status": "ok",
     "timestamp": 1597231732859,
     "user": {
      "displayName": "Darlan Murilo Nakamura de Araujo",
      "photoUrl": "",
      "userId": "05286552425313295957"
     },
     "user_tz": 180
    },
    "id": "dBhWqNHyHMbs",
    "outputId": "5e8dcf72-a789-4b55-f346-a53f210b6a27"
   },
   "outputs": [
    {
     "data": {
      "image/png": "[encoded data removed]",
      "text/plain": [
       "<Figure size 864x576 with 4 Axes>"
      ]
     },
     "metadata": {
      "needs_background": "light",
      "tags": []
     },
     "output_type": "display_data"
    }
   ],
   "source": [
    "mostrar_lado_a_lado(imagens=[y_test[100,:,:,0], x_test[100,:,:,0], predicted_with_subtract[100,:,:,0], predicted_without_subtract[100,:,:,0]], titulos=['Original', 'Ruidoso', 'DnCNN', 'DnCNN without RL'])"
   ]
  },
  {
   "cell_type": "code",
   "execution_count": 36,
   "metadata": {
    "colab": {
     "base_uri": "https://localhost:8080/",
     "height": 33
    },
    "colab_type": "code",
    "executionInfo": {
     "elapsed": 67892,
     "status": "ok",
     "timestamp": 1597231732860,
     "user": {
      "displayName": "Darlan Murilo Nakamura de Araujo",
      "photoUrl": "",
      "userId": "05286552425313295957"
     },
     "user_tz": 180
    },
    "id": "z-jvkQ0u6bF0",
    "outputId": "c97cfc9a-6eae-490d-db86-5032e33fbc97"
   },
   "outputs": [
    {
     "data": {
      "text/plain": [
       "(50, 50, 1)"
      ]
     },
     "execution_count": 36,
     "metadata": {
      "tags": []
     },
     "output_type": "execute_result"
    }
   ],
   "source": [
    "y_test[100].shape"
   ]
  },
  {
   "cell_type": "code",
   "execution_count": 38,
   "metadata": {
    "colab": {},
    "colab_type": "code",
    "executionInfo": {
     "elapsed": 3690,
     "status": "ok",
     "timestamp": 1597231752276,
     "user": {
      "displayName": "Darlan Murilo Nakamura de Araujo",
      "photoUrl": "",
      "userId": "05286552425313295957"
     },
     "user_tz": 180
    },
    "id": "gw3kX6foHMbV"
   },
   "outputs": [],
   "source": [
    "from denoising.measures import PSNR, SSIM"
   ]
  },
  {
   "cell_type": "code",
   "execution_count": 39,
   "metadata": {
    "colab": {
     "base_uri": "https://localhost:8080/",
     "height": 33
    },
    "colab_type": "code",
    "executionInfo": {
     "elapsed": 559,
     "status": "ok",
     "timestamp": 1597231753822,
     "user": {
      "displayName": "Darlan Murilo Nakamura de Araujo",
      "photoUrl": "",
      "userId": "05286552425313295957"
     },
     "user_tz": 180
    },
    "id": "CFngaMf36HeX",
    "outputId": "a3c4d31b-6525-425f-b9b6-9c5cdc797685"
   },
   "outputs": [
    {
     "name": "stdout",
     "output_type": "stream",
     "text": [
      "PSNR médio: 28.84 dB e SSIM médio 0.93.\n"
     ]
    }
   ],
   "source": [
    "pnsr_img = PSNR(y_test[100].reshape(1,50,50,1), predicted_with_subtract[100].reshape(1,50,50,1))\n",
    "ssim_img = SSIM(y_test[100].reshape(1,50,50,1), predicted_with_subtract[100].reshape(1,50,50,1))\n",
    "\n",
    "print('PSNR médio: %.2f dB e SSIM médio %.2f.' % (np.array(pnsr_img).mean(), np.array(ssim_img).mean()))"
   ]
  },
  {
   "cell_type": "code",
   "execution_count": 40,
   "metadata": {
    "colab": {
     "base_uri": "https://localhost:8080/",
     "height": 33
    },
    "colab_type": "code",
    "executionInfo": {
     "elapsed": 896,
     "status": "ok",
     "timestamp": 1597231756374,
     "user": {
      "displayName": "Darlan Murilo Nakamura de Araujo",
      "photoUrl": "",
      "userId": "05286552425313295957"
     },
     "user_tz": 180
    },
    "id": "L7Wc5hlbc9UN",
    "outputId": "f1af7e5c-0660-49e9-f2c9-42b4f4c37910"
   },
   "outputs": [
    {
     "name": "stdout",
     "output_type": "stream",
     "text": [
      "PSNR médio: 28.28 dB e SSIM médio 0.92.\n"
     ]
    }
   ],
   "source": [
    "pnsr_img = PSNR(y_test[100].reshape(1,50,50,1), predicted_without_subtract[100].reshape(1,50,50,1))\n",
    "ssim_img = SSIM(y_test[100].reshape(1,50,50,1), predicted_without_subtract[100].reshape(1,50,50,1))\n",
    "\n",
    "print('PSNR médio: %.2f dB e SSIM médio %.2f.' % (np.array(pnsr_img).mean(), np.array(ssim_img).mean()))"
   ]
  },
  {
   "cell_type": "code",
   "execution_count": 41,
   "metadata": {
    "colab": {
     "base_uri": "https://localhost:8080/",
     "height": 192
    },
    "colab_type": "code",
    "executionInfo": {
     "elapsed": 1187,
     "status": "ok",
     "timestamp": 1597231762950,
     "user": {
      "displayName": "Darlan Murilo Nakamura de Araujo",
      "photoUrl": "",
      "userId": "05286552425313295957"
     },
     "user_tz": 180
    },
    "id": "BgwbMccI522v",
    "outputId": "09446e98-120b-4018-9755-8e2145864b2a"
   },
   "outputs": [
    {
     "data": {
      "image/png": "[encoded data removed]",
      "text/plain": [
       "<Figure size 864x576 with 4 Axes>"
      ]
     },
     "metadata": {
      "needs_background": "light",
      "tags": []
     },
     "output_type": "display_data"
    }
   ],
   "source": [
    "mostrar_lado_a_lado(imagens=[y_test[500,:,:,0], x_test[500,:,:,0], predicted_with_subtract[500,:,:,0], predicted_without_subtract[500,:,:,0]], titulos=['Original', 'Ruidoso', 'DnCNN', 'DnCNN without RL'])"
   ]
  },
  {
   "cell_type": "markdown",
   "metadata": {
    "colab_type": "text",
    "id": "xltDTExSHMbL"
   },
   "source": [
    "## Compairing PSNR and SSIM of projections filtered by the network"
   ]
  },
  {
   "cell_type": "code",
   "execution_count": 42,
   "metadata": {
    "colab": {},
    "colab_type": "code",
    "executionInfo": {
     "elapsed": 18855,
     "status": "ok",
     "timestamp": 1597231793485,
     "user": {
      "displayName": "Darlan Murilo Nakamura de Araujo",
      "photoUrl": "",
      "userId": "05286552425313295957"
     },
     "user_tz": 180
    },
    "id": "2ePiWfiBHMba"
   },
   "outputs": [],
   "source": [
    "psnr = PSNR(y_test, x_test)\n",
    "ssim = SSIM(y_test, x_test)"
   ]
  },
  {
   "cell_type": "code",
   "execution_count": 43,
   "metadata": {
    "colab": {
     "base_uri": "https://localhost:8080/",
     "height": 33
    },
    "colab_type": "code",
    "executionInfo": {
     "elapsed": 18306,
     "status": "ok",
     "timestamp": 1597231793487,
     "user": {
      "displayName": "Darlan Murilo Nakamura de Araujo",
      "photoUrl": "",
      "userId": "05286552425313295957"
     },
     "user_tz": 180
    },
    "id": "Z6awel_1HMbe",
    "outputId": "b3ae9d96-39e3-4284-ebc7-1e42ea2a9ef0"
   },
   "outputs": [
    {
     "name": "stdout",
     "output_type": "stream",
     "text": [
      "PSNR médio: 19.51 dB e SSIM médio 0.75.\n"
     ]
    }
   ],
   "source": [
    "print('PSNR médio: %.2f dB e SSIM médio %.2f.' % (np.array(psnr).mean(), np.array(ssim).mean()))"
   ]
  },
  {
   "cell_type": "code",
   "execution_count": 44,
   "metadata": {
    "colab": {},
    "colab_type": "code",
    "executionInfo": {
     "elapsed": 18602,
     "status": "ok",
     "timestamp": 1597231822754,
     "user": {
      "displayName": "Darlan Murilo Nakamura de Araujo",
      "photoUrl": "",
      "userId": "05286552425313295957"
     },
     "user_tz": 180
    },
    "id": "3wA4bdaaHMbh"
   },
   "outputs": [],
   "source": [
    "psnr_pred = PSNR(y_test, predicted_with_subtract)\n",
    "ssim_pred = SSIM(y_test, predicted_with_subtract)"
   ]
  },
  {
   "cell_type": "code",
   "execution_count": 45,
   "metadata": {
    "colab": {
     "base_uri": "https://localhost:8080/",
     "height": 33
    },
    "colab_type": "code",
    "executionInfo": {
     "elapsed": 18171,
     "status": "ok",
     "timestamp": 1597231822757,
     "user": {
      "displayName": "Darlan Murilo Nakamura de Araujo",
      "photoUrl": "",
      "userId": "05286552425313295957"
     },
     "user_tz": 180
    },
    "id": "KUmqC5G-HMbl",
    "outputId": "fc558b89-5333-402a-b9e6-b8e79c4a2d07"
   },
   "outputs": [
    {
     "name": "stdout",
     "output_type": "stream",
     "text": [
      "PSNR médio: 25.87 dB e SSIM médio 0.90.\n"
     ]
    }
   ],
   "source": [
    "print('PSNR médio: %.2f dB e SSIM médio %.2f.' % (np.array(psnr_pred).mean(), np.array(ssim_pred).mean()))"
   ]
  },
  {
   "cell_type": "code",
   "execution_count": 46,
   "metadata": {
    "colab": {},
    "colab_type": "code",
    "executionInfo": {
     "elapsed": 26821,
     "status": "ok",
     "timestamp": 1597231840009,
     "user": {
      "displayName": "Darlan Murilo Nakamura de Araujo",
      "photoUrl": "",
      "userId": "05286552425313295957"
     },
     "user_tz": 180
    },
    "id": "Ph0vgSo6dFwY"
   },
   "outputs": [],
   "source": [
    "psnr_pred_without_subtract = PSNR(y_test, predicted_without_subtract)\n",
    "ssim_pred_without_subtract = SSIM(y_test, predicted_without_subtract)"
   ]
  },
  {
   "cell_type": "code",
   "execution_count": 47,
   "metadata": {
    "colab": {
     "base_uri": "https://localhost:8080/",
     "height": 33
    },
    "colab_type": "code",
    "executionInfo": {
     "elapsed": 26692,
     "status": "ok",
     "timestamp": 1597231840012,
     "user": {
      "displayName": "Darlan Murilo Nakamura de Araujo",
      "photoUrl": "",
      "userId": "05286552425313295957"
     },
     "user_tz": 180
    },
    "id": "gjmAoWDGbvgG",
    "outputId": "4ebae8c9-e8b1-45ab-dc90-cc8cede9ab24"
   },
   "outputs": [
    {
     "name": "stdout",
     "output_type": "stream",
     "text": [
      "PSNR médio: 28.82 dB e SSIM médio 0.89.\n"
     ]
    }
   ],
   "source": [
    "print('PSNR médio: %.2f dB e SSIM médio %.2f.' % (np.array(psnr_pred_without_subtract).mean(), np.array(ssim_pred_without_subtract).mean()))"
   ]
  },
  {
   "cell_type": "markdown",
   "metadata": {
    "colab_type": "text",
    "id": "5Pfdcw97HMbq"
   },
   "source": [
    "## PSNR with RL: 25.87 dB\n",
    "\n",
    "## PSNR without RL: 28.82 dB\n",
    "\n",
    "## SSIM with RL: 0.90\n",
    "\n",
    "## SSIM without RL: 0.89"
   ]
  },
  {
   "cell_type": "markdown",
   "metadata": {
    "colab_type": "text",
    "id": "KUV9Juv0h0xt"
   },
   "source": [
    "# Saving data"
   ]
  },
  {
   "cell_type": "code",
   "execution_count": 49,
   "metadata": {
    "colab": {},
    "colab_type": "code",
    "executionInfo": {
     "elapsed": 1493,
     "status": "ok",
     "timestamp": 1597233798659,
     "user": {
      "displayName": "Darlan Murilo Nakamura de Araujo",
      "photoUrl": "",
      "userId": "05286552425313295957"
     },
     "user_tz": 180
    },
    "id": "izMZ2iW7h147"
   },
   "outputs": [],
   "source": [
    "np.save('results/spie2020/teste-rl/poisson/predicted_with_rl.npy', predicted_with_subtract)"
   ]
  },
  {
   "cell_type": "code",
   "execution_count": 50,
   "metadata": {
    "colab": {},
    "colab_type": "code",
    "executionInfo": {
     "elapsed": 2300,
     "status": "ok",
     "timestamp": 1597233799987,
     "user": {
      "displayName": "Darlan Murilo Nakamura de Araujo",
      "photoUrl": "",
      "userId": "05286552425313295957"
     },
     "user_tz": 180
    },
    "id": "2wodzNvEibjJ"
   },
   "outputs": [],
   "source": [
    "np.save('results/spie2020/teste-rl/poisson/predicted_without_rl.npy', predicted_without_subtract)"
   ]
  },
  {
   "cell_type": "code",
   "execution_count": 51,
   "metadata": {
    "colab": {},
    "colab_type": "code",
    "executionInfo": {
     "elapsed": 1855,
     "status": "ok",
     "timestamp": 1597233799988,
     "user": {
      "displayName": "Darlan Murilo Nakamura de Araujo",
      "photoUrl": "",
      "userId": "05286552425313295957"
     },
     "user_tz": 180
    },
    "id": "EFzCiMxbiX5q"
   },
   "outputs": [],
   "source": [
    "np.save('results/spie2020/teste-rl/poisson/psnr_with_rl.npy', np.array(psnr_pred))\n",
    "np.save('results/spie2020/teste-rl/poisson/ssim_with_rl.npy', np.array(ssim_pred))\n",
    "\n",
    "np.save('results/spie2020/teste-rl/poisson/psnr_without_rl.npy', np.array(psnr_pred_without_subtract))\n",
    "np.save('results/spie2020/teste-rl/poisson/ssim_without_rl.npy', np.array(ssim_pred_without_subtract))"
   ]
  }
 ],
 "metadata": {
  "accelerator": "GPU",
  "colab": {
   "collapsed_sections": [],
   "name": "SPIE 2020 - teste RL Poisson.ipynb",
   "provenance": []
  },
  "kernelspec": {
   "display_name": "Python 3",
   "language": "python",
   "name": "python3"
  },
  "language_info": {
   "codemirror_mode": {
    "name": "ipython",
    "version": 3
   },
   "file_extension": ".py",
   "mimetype": "text/x-python",
   "name": "python",
   "nbconvert_exporter": "python",
   "pygments_lexer": "ipython3",
   "version": "3.7.5"
  }
 },
 "nbformat": 4,
 "nbformat_minor": 4
}
