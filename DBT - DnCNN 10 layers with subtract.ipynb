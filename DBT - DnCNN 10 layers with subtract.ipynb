{
 "cells": [
  {
   "cell_type": "markdown",
   "metadata": {
    "colab_type": "text",
    "id": "Zl2SurraHMY0"
   },
   "source": [
    "# SPIE 2020 - Denoising DBT projections using DnCNN with Residual Learning\n",
    "\n",
    "## Importing libraries"
   ]
  },
  {
   "cell_type": "code",
   "execution_count": 73,
   "metadata": {
    "colab": {},
    "colab_type": "code",
    "executionInfo": {
     "elapsed": 745,
     "status": "ok",
     "timestamp": 1595413802214,
     "user": {
      "displayName": "Darlan Murilo Nakamura de Araujo",
      "photoUrl": "",
      "userId": "05286552425313295957"
     },
     "user_tz": 180
    },
    "id": "HUDAuC5bHMY1"
   },
   "outputs": [],
   "source": [
    "from typing import List, Dict, Tuple\n",
    "from copy import deepcopy\n",
    "import os\n",
    "import cv2\n",
    "import keras\n",
    "import numpy as np\n",
    "import matplotlib.pyplot as plt\n",
    "import seaborn as sns\n",
    "import tensorflow as tf\n",
    "\n",
    "from keras import Sequential, layers, activations\n",
    "from keras.models import Model, load_model\n",
    "\n",
    "from skimage.metrics import peak_signal_noise_ratio as psnr, structural_similarity as ssim\n",
    "\n",
    "from utils import *"
   ]
  },
  {
   "cell_type": "markdown",
   "metadata": {
    "colab_type": "text",
    "id": "ojiaIWwWHMZx"
   },
   "source": [
    "## Loading dataset"
   ]
  },
  {
   "cell_type": "markdown",
   "metadata": {
    "colab_type": "text",
    "id": "qT8STWd_HMZx"
   },
   "source": [
    "Projections dimension: 650 x 1650"
   ]
  },
  {
   "cell_type": "code",
   "execution_count": 85,
   "metadata": {
    "colab": {},
    "colab_type": "code",
    "executionInfo": {
     "elapsed": 117335,
     "status": "ok",
     "timestamp": 1595413918865,
     "user": {
      "displayName": "Darlan Murilo Nakamura de Araujo",
      "photoUrl": "",
      "userId": "05286552425313295957"
     },
     "user_tz": 180
    },
    "id": "rqV4rzOLHMZy"
   },
   "outputs": [],
   "source": [
    "full_x_train, full_y_train, full_x_test, full_y_test = carrega_dataset(divisao=(80,20), embaralhar=True)"
   ]
  },
  {
   "cell_type": "markdown",
   "metadata": {
    "colab_type": "text",
    "id": "XiyIt5I_HMZ6"
   },
   "source": [
    "## Merging projections in one dimension"
   ]
  },
  {
   "cell_type": "code",
   "execution_count": 87,
   "metadata": {
    "colab": {},
    "colab_type": "code",
    "executionInfo": {
     "elapsed": 117330,
     "status": "ok",
     "timestamp": 1595413918870,
     "user": {
      "displayName": "Darlan Murilo Nakamura de Araujo",
      "photoUrl": "",
      "userId": "05286552425313295957"
     },
     "user_tz": 180
    },
    "id": "cxDtuNC0TcUk"
   },
   "outputs": [],
   "source": [
    "x_train =  np.reshape(full_x_train, (-1, 50, 50))\n",
    "x_test = np.reshape(full_x_test, (-1, 50, 50))\n",
    "y_train = np.reshape(full_y_train, (-1, 50, 50))\n",
    "y_test = np.reshape(full_y_test, (-1, 50, 50)) "
   ]
  },
  {
   "cell_type": "code",
   "execution_count": 88,
   "metadata": {
    "colab": {},
    "colab_type": "code",
    "executionInfo": {
     "elapsed": 117150,
     "status": "ok",
     "timestamp": 1595413918872,
     "user": {
      "displayName": "Darlan Murilo Nakamura de Araujo",
      "photoUrl": "",
      "userId": "05286552425313295957"
     },
     "user_tz": 180
    },
    "id": "CjKI8426PzvW"
   },
   "outputs": [],
   "source": [
    "del full_x_train\n",
    "del full_y_train\n",
    "del full_x_test\n",
    "del full_y_test"
   ]
  },
  {
   "cell_type": "code",
   "execution_count": 89,
   "metadata": {
    "colab": {},
    "colab_type": "code",
    "executionInfo": {
     "elapsed": 116574,
     "status": "ok",
     "timestamp": 1595413918873,
     "user": {
      "displayName": "Darlan Murilo Nakamura de Araujo",
      "photoUrl": "",
      "userId": "05286552425313295957"
     },
     "user_tz": 180
    },
    "id": "k9C5fd7hVwtj"
   },
   "outputs": [],
   "source": [
    "x_train = x_train[:15000]\n",
    "y_train = y_train[:15000]\n",
    "\n",
    "x_test = x_test[:3750]\n",
    "y_test = y_test[:3750]"
   ]
  },
  {
   "cell_type": "code",
   "execution_count": 90,
   "metadata": {
    "colab": {
     "base_uri": "https://localhost:8080/",
     "height": 34
    },
    "colab_type": "code",
    "executionInfo": {
     "elapsed": 115983,
     "status": "ok",
     "timestamp": 1595413918873,
     "user": {
      "displayName": "Darlan Murilo Nakamura de Araujo",
      "photoUrl": "",
      "userId": "05286552425313295957"
     },
     "user_tz": 180
    },
    "id": "rVj8fCkdMwOc",
    "outputId": "9398c356-87ba-46e7-fa98-12096c0f7151"
   },
   "outputs": [
    {
     "data": {
      "text/plain": [
       "(3750, 50, 50)"
      ]
     },
     "execution_count": 90,
     "metadata": {
      "tags": []
     },
     "output_type": "execute_result"
    }
   ],
   "source": [
    "x_test.shape"
   ]
  },
  {
   "cell_type": "code",
   "execution_count": 91,
   "metadata": {
    "colab": {},
    "colab_type": "code",
    "executionInfo": {
     "elapsed": 115606,
     "status": "ok",
     "timestamp": 1595413919274,
     "user": {
      "displayName": "Darlan Murilo Nakamura de Araujo",
      "photoUrl": "",
      "userId": "05286552425313295957"
     },
     "user_tz": 180
    },
    "id": "1bvvhhGWLp1w"
   },
   "outputs": [],
   "source": [
    "np.random.seed(13)\n",
    "np.random.shuffle(x_train)\n",
    "\n",
    "np.random.seed(13)\n",
    "np.random.shuffle(y_train)\n",
    "\n",
    "\n",
    "np.random.seed(43)\n",
    "np.random.shuffle(x_test)\n",
    "\n",
    "\n",
    "np.random.seed(43)\n",
    "np.random.shuffle(y_test)"
   ]
  },
  {
   "cell_type": "code",
   "execution_count": 92,
   "metadata": {
    "colab": {
     "base_uri": "https://localhost:8080/",
     "height": 351
    },
    "colab_type": "code",
    "executionInfo": {
     "elapsed": 114942,
     "status": "ok",
     "timestamp": 1595413919278,
     "user": {
      "displayName": "Darlan Murilo Nakamura de Araujo",
      "photoUrl": "",
      "userId": "05286552425313295957"
     },
     "user_tz": 180
    },
    "id": "88YFejuuHMZ2",
    "outputId": "279ec2cc-f1cd-4c09-ae1e-3b5b1ad82748"
   },
   "outputs": [
    {
     "data": {
      "image/png": "[encoded data removed]",
      "text/plain": [
       "<Figure size 864x576 with 2 Axes>"
      ]
     },
     "metadata": {
      "needs_background": "light",
      "tags": []
     },
     "output_type": "display_data"
    }
   ],
   "source": [
    "mostrar_lado_a_lado(imagens=[x_train[1500, :,:], y_train[1500,:,:]], titulos=['Ruidoso', 'Original'])"
   ]
  },
  {
   "cell_type": "code",
   "execution_count": 93,
   "metadata": {
    "colab": {
     "base_uri": "https://localhost:8080/",
     "height": 351
    },
    "colab_type": "code",
    "executionInfo": {
     "elapsed": 114587,
     "status": "ok",
     "timestamp": 1595413919783,
     "user": {
      "displayName": "Darlan Murilo Nakamura de Araujo",
      "photoUrl": "",
      "userId": "05286552425313295957"
     },
     "user_tz": 180
    },
    "id": "gkQOzMR3MAUp",
    "outputId": "ffaa754a-1329-485d-f2cf-fc281eca68d0"
   },
   "outputs": [
    {
     "data": {
      "image/png": "[encoded data removed]",
      "text/plain": [
       "<Figure size 864x576 with 2 Axes>"
      ]
     },
     "metadata": {
      "needs_background": "light",
      "tags": []
     },
     "output_type": "display_data"
    }
   ],
   "source": [
    "mostrar_lado_a_lado(imagens=[x_test[3010, :,:], y_test[3010,:,:]], titulos=['Ruidoso', 'Original'])"
   ]
  },
  {
   "cell_type": "markdown",
   "metadata": {
    "colab_type": "text",
    "id": "QFNJ6lFBHMaU"
   },
   "source": [
    "## Normalizing datasets between [0;1]"
   ]
  },
  {
   "cell_type": "code",
   "execution_count": 94,
   "metadata": {
    "colab": {},
    "colab_type": "code",
    "executionInfo": {
     "elapsed": 113636,
     "status": "ok",
     "timestamp": 1595413920014,
     "user": {
      "displayName": "Darlan Murilo Nakamura de Araujo",
      "photoUrl": "",
      "userId": "05286552425313295957"
     },
     "user_tz": 180
    },
    "id": "pIziCNGdHMaV"
   },
   "outputs": [],
   "source": [
    "x_train = cv2.normalize(x_train, None, alpha= 0, beta = 1, norm_type = cv2.NORM_MINMAX, dtype = cv2.CV_32F)\n",
    "y_train = cv2.normalize(y_train, None, alpha= 0, beta = 1, norm_type = cv2.NORM_MINMAX, dtype = cv2.CV_32F)\n",
    "\n",
    "\n",
    "x_test = cv2.normalize(x_test, None, alpha= 0, beta = 1, norm_type = cv2.NORM_MINMAX, dtype = cv2.CV_32F)\n",
    "y_test = cv2.normalize(y_test, None, alpha= 0, beta = 1, norm_type = cv2.NORM_MINMAX, dtype = cv2.CV_32F)"
   ]
  },
  {
   "cell_type": "markdown",
   "metadata": {
    "colab_type": "text",
    "id": "85YjiA2eHMaZ"
   },
   "source": [
    "## Adding color dimension"
   ]
  },
  {
   "cell_type": "code",
   "execution_count": 95,
   "metadata": {
    "colab": {},
    "colab_type": "code",
    "executionInfo": {
     "elapsed": 113046,
     "status": "ok",
     "timestamp": 1595413920016,
     "user": {
      "displayName": "Darlan Murilo Nakamura de Araujo",
      "photoUrl": "",
      "userId": "05286552425313295957"
     },
     "user_tz": 180
    },
    "id": "icx1xyDlHMaa"
   },
   "outputs": [],
   "source": [
    "x_train = adiciona_a_dimensao_das_cores(x_train)\n",
    "y_train = adiciona_a_dimensao_das_cores(y_train)\n",
    "\n",
    "x_test = adiciona_a_dimensao_das_cores(x_test)\n",
    "y_test = adiciona_a_dimensao_das_cores(y_test)"
   ]
  },
  {
   "cell_type": "code",
   "execution_count": 96,
   "metadata": {
    "colab": {
     "base_uri": "https://localhost:8080/",
     "height": 34
    },
    "colab_type": "code",
    "executionInfo": {
     "elapsed": 112778,
     "status": "ok",
     "timestamp": 1595413920017,
     "user": {
      "displayName": "Darlan Murilo Nakamura de Araujo",
      "photoUrl": "",
      "userId": "05286552425313295957"
     },
     "user_tz": 180
    },
    "id": "Iw5gnrNJHMad",
    "outputId": "aa7b13e2-02ec-4170-b05b-304e1886bc1d"
   },
   "outputs": [
    {
     "data": {
      "text/plain": [
       "(15000, 50, 50, 1)"
      ]
     },
     "execution_count": 96,
     "metadata": {
      "tags": []
     },
     "output_type": "execute_result"
    }
   ],
   "source": [
    "x_train.shape"
   ]
  },
  {
   "cell_type": "code",
   "execution_count": 97,
   "metadata": {
    "colab": {
     "base_uri": "https://localhost:8080/",
     "height": 34
    },
    "colab_type": "code",
    "executionInfo": {
     "elapsed": 112509,
     "status": "ok",
     "timestamp": 1595413920019,
     "user": {
      "displayName": "Darlan Murilo Nakamura de Araujo",
      "photoUrl": "",
      "userId": "05286552425313295957"
     },
     "user_tz": 180
    },
    "id": "6DFJLsSOHMah",
    "outputId": "fa4986f3-3d50-4e43-9651-9fa9832ac19c"
   },
   "outputs": [
    {
     "data": {
      "text/plain": [
       "(3750, 50, 50, 1)"
      ]
     },
     "execution_count": 97,
     "metadata": {
      "tags": []
     },
     "output_type": "execute_result"
    }
   ],
   "source": [
    "x_test.shape"
   ]
  },
  {
   "cell_type": "markdown",
   "metadata": {
    "colab_type": "text",
    "id": "5Qx-x9ReHMal"
   },
   "source": [
    "# Building model"
   ]
  },
  {
   "cell_type": "markdown",
   "metadata": {
    "colab_type": "text",
    "id": "QIpeYXkkHMal"
   },
   "source": [
    "## Hyper-parameters"
   ]
  },
  {
   "cell_type": "code",
   "execution_count": 98,
   "metadata": {
    "colab": {},
    "colab_type": "code",
    "executionInfo": {
     "elapsed": 111266,
     "status": "ok",
     "timestamp": 1595413920020,
     "user": {
      "displayName": "Darlan Murilo Nakamura de Araujo",
      "photoUrl": "",
      "userId": "05286552425313295957"
     },
     "user_tz": 180
    },
    "id": "sFy8mNluHMan"
   },
   "outputs": [],
   "source": [
    "BATCH_SIZE = 128\n",
    "LEARNING_RATE = 0.001\n",
    "EPOCHS = 10\n",
    "NUMBER_OF_LAYERS = 10"
   ]
  },
  {
   "cell_type": "code",
   "execution_count": 99,
   "metadata": {
    "colab": {
     "base_uri": "https://localhost:8080/",
     "height": 1000
    },
    "colab_type": "code",
    "executionInfo": {
     "elapsed": 111363,
     "status": "ok",
     "timestamp": 1595413920565,
     "user": {
      "displayName": "Darlan Murilo Nakamura de Araujo",
      "photoUrl": "",
      "userId": "05286552425313295957"
     },
     "user_tz": 180
    },
    "id": "cuXJnSJuHMar",
    "outputId": "6cfc5318-794a-4f0b-c2af-8c407e31fd3a"
   },
   "outputs": [
    {
     "name": "stdout",
     "output_type": "stream",
     "text": [
      "(None, None, None, 64)\n",
      "Model: \"model_2\"\n",
      "__________________________________________________________________________________________________\n",
      "Layer (type)                    Output Shape         Param #     Connected to                     \n",
      "==================================================================================================\n",
      "input (InputLayer)              (None, None, None, 1 0                                            \n",
      "__________________________________________________________________________________________________\n",
      "conv1 (Conv2D)                  (None, None, None, 6 640         input[0][0]                      \n",
      "__________________________________________________________________________________________________\n",
      "activation_10 (Activation)      (None, None, None, 6 0           conv1[0][0]                      \n",
      "__________________________________________________________________________________________________\n",
      "conv2 (Conv2D)                  (None, None, None, 6 36928       activation_10[0][0]              \n",
      "__________________________________________________________________________________________________\n",
      "batch_normalization2 (BatchNorm (None, None, None, 6 256         conv2[0][0]                      \n",
      "__________________________________________________________________________________________________\n",
      "activation_11 (Activation)      (None, None, None, 6 0           batch_normalization2[0][0]       \n",
      "__________________________________________________________________________________________________\n",
      "conv3 (Conv2D)                  (None, None, None, 6 36928       activation_11[0][0]              \n",
      "__________________________________________________________________________________________________\n",
      "batch_normalization3 (BatchNorm (None, None, None, 6 256         conv3[0][0]                      \n",
      "__________________________________________________________________________________________________\n",
      "activation_12 (Activation)      (None, None, None, 6 0           batch_normalization3[0][0]       \n",
      "__________________________________________________________________________________________________\n",
      "conv4 (Conv2D)                  (None, None, None, 6 36928       activation_12[0][0]              \n",
      "__________________________________________________________________________________________________\n",
      "batch_normalization4 (BatchNorm (None, None, None, 6 256         conv4[0][0]                      \n",
      "__________________________________________________________________________________________________\n",
      "activation_13 (Activation)      (None, None, None, 6 0           batch_normalization4[0][0]       \n",
      "__________________________________________________________________________________________________\n",
      "conv5 (Conv2D)                  (None, None, None, 6 36928       activation_13[0][0]              \n",
      "__________________________________________________________________________________________________\n",
      "batch_normalization5 (BatchNorm (None, None, None, 6 256         conv5[0][0]                      \n",
      "__________________________________________________________________________________________________\n",
      "activation_14 (Activation)      (None, None, None, 6 0           batch_normalization5[0][0]       \n",
      "__________________________________________________________________________________________________\n",
      "conv6 (Conv2D)                  (None, None, None, 6 36928       activation_14[0][0]              \n",
      "__________________________________________________________________________________________________\n",
      "batch_normalization6 (BatchNorm (None, None, None, 6 256         conv6[0][0]                      \n",
      "__________________________________________________________________________________________________\n",
      "activation_15 (Activation)      (None, None, None, 6 0           batch_normalization6[0][0]       \n",
      "__________________________________________________________________________________________________\n",
      "conv7 (Conv2D)                  (None, None, None, 6 36928       activation_15[0][0]              \n",
      "__________________________________________________________________________________________________\n",
      "batch_normalization7 (BatchNorm (None, None, None, 6 256         conv7[0][0]                      \n",
      "__________________________________________________________________________________________________\n",
      "activation_16 (Activation)      (None, None, None, 6 0           batch_normalization7[0][0]       \n",
      "__________________________________________________________________________________________________\n",
      "conv8 (Conv2D)                  (None, None, None, 6 36928       activation_16[0][0]              \n",
      "__________________________________________________________________________________________________\n",
      "batch_normalization8 (BatchNorm (None, None, None, 6 256         conv8[0][0]                      \n",
      "__________________________________________________________________________________________________\n",
      "activation_17 (Activation)      (None, None, None, 6 0           batch_normalization8[0][0]       \n",
      "__________________________________________________________________________________________________\n",
      "conv9 (Conv2D)                  (None, None, None, 6 36928       activation_17[0][0]              \n",
      "__________________________________________________________________________________________________\n",
      "batch_normalization9 (BatchNorm (None, None, None, 6 256         conv9[0][0]                      \n",
      "__________________________________________________________________________________________________\n",
      "activation_18 (Activation)      (None, None, None, 6 0           batch_normalization9[0][0]       \n",
      "__________________________________________________________________________________________________\n",
      "conv10 (Conv2D)                 (None, None, None, 1 577         activation_18[0][0]              \n",
      "__________________________________________________________________________________________________\n",
      "subtract (Subtract)             (None, None, None, 1 0           input[0][0]                      \n",
      "                                                                 conv10[0][0]                     \n",
      "==================================================================================================\n",
      "Total params: 298,689\n",
      "Trainable params: 297,665\n",
      "Non-trainable params: 1,024\n",
      "__________________________________________________________________________________________________\n"
     ]
    }
   ],
   "source": [
    "model = keras.Sequential()\n",
    "input = layers.Input(shape=(None, None, 1), name='input')\n",
    "\n",
    "output = layers.Conv2D(filters=64,kernel_size=(3,3), strides=(1,1), \n",
    "                       padding='same', name='conv1')(input)\n",
    "output = layers.Activation('relu')(output)\n",
    "\n",
    "print(output.shape)\n",
    "\n",
    "for layer in range(2, NUMBER_OF_LAYERS): # original é 19 em vez de 5\n",
    "    output = layers.Conv2D(filters=64, kernel_size=(3,3), strides=(1,1), \n",
    "                       padding='same', name='conv%d' %layer)(output)\n",
    "    output = layers.BatchNormalization(axis=-1, epsilon=1e-3, name='batch_normalization%d' %layer)(output)\n",
    "    output = layers.Activation('relu')(output)\n",
    "\n",
    "output = layers.Conv2D(filters=1, kernel_size=(3,3), padding='same', strides=(1,1), name=f'conv{NUMBER_OF_LAYERS}')(output)\n",
    "\n",
    "output = layers.Subtract(name='subtract')([input, output])\n",
    "\n",
    "model = Model(inputs=input, outputs=output)\n",
    "\n",
    "model.summary()"
   ]
  },
  {
   "cell_type": "code",
   "execution_count": 100,
   "metadata": {
    "colab": {},
    "colab_type": "code",
    "executionInfo": {
     "elapsed": 108403,
     "status": "ok",
     "timestamp": 1595413920568,
     "user": {
      "displayName": "Darlan Murilo Nakamura de Araujo",
      "photoUrl": "",
      "userId": "05286552425313295957"
     },
     "user_tz": 180
    },
    "id": "d53KCLIzHMaw"
   },
   "outputs": [],
   "source": [
    "model.compile(optimizer=keras.optimizers.Adam(LEARNING_RATE), loss='mse')"
   ]
  },
  {
   "cell_type": "markdown",
   "metadata": {
    "colab_type": "text",
    "id": "PJsWXze2HMaz"
   },
   "source": [
    "## Saving model checkpoint"
   ]
  },
  {
   "cell_type": "code",
   "execution_count": 101,
   "metadata": {
    "colab": {},
    "colab_type": "code",
    "executionInfo": {
     "elapsed": 107313,
     "status": "ok",
     "timestamp": 1595413920570,
     "user": {
      "displayName": "Darlan Murilo Nakamura de Araujo",
      "photoUrl": "",
      "userId": "05286552425313295957"
     },
     "user_tz": 180
    },
    "id": "f_-ePoVvHMa0"
   },
   "outputs": [],
   "source": [
    "checkpoint = keras.callbacks.ModelCheckpoint('ckpt-dbt-50x50-com-subtract/model_{epoch}.hdf5', verbose=1, save_best_only=True, save_weights_only=False, period=1)"
   ]
  },
  {
   "cell_type": "markdown",
   "metadata": {
    "colab_type": "text",
    "id": "ndxX5wNhHMa3"
   },
   "source": [
    "# Training the model"
   ]
  },
  {
   "cell_type": "code",
   "execution_count": null,
   "metadata": {
    "colab": {
     "base_uri": "https://localhost:8080/",
     "height": 1000
    },
    "colab_type": "code",
    "id": "Jwza7rjwHMa7",
    "outputId": "ecfc9733-0c6b-471c-acc2-81c1de5e2c68"
   },
   "outputs": [
    {
     "name": "stdout",
     "output_type": "stream",
     "text": [
      "Train on 15000 samples, validate on 3750 samples\n",
      "Epoch 1/100\n",
      "15000/15000 [==============================] - 79s 5ms/step - loss: 0.0012 - val_loss: 0.0019\n",
      "\n",
      "Epoch 00001: val_loss did not improve from 0.00141\n",
      "Epoch 2/100\n",
      "15000/15000 [==============================] - 79s 5ms/step - loss: 0.0011 - val_loss: 0.0019\n",
      "\n",
      "Epoch 00002: val_loss did not improve from 0.00141\n",
      "Epoch 3/100\n",
      "15000/15000 [==============================] - 79s 5ms/step - loss: 0.0012 - val_loss: 0.0015\n",
      "\n",
      "Epoch 00003: val_loss did not improve from 0.00141\n",
      "Epoch 4/100\n",
      "15000/15000 [==============================] - 79s 5ms/step - loss: 0.0011 - val_loss: 0.0014\n",
      "\n",
      "Epoch 00004: val_loss improved from 0.00141 to 0.00138, saving model to ckpt-dbt-50x50-com-subtract/model_4.hdf5\n",
      "Epoch 5/100\n",
      "15000/15000 [==============================] - 78s 5ms/step - loss: 0.0012 - val_loss: 0.0016\n",
      "\n",
      "Epoch 00005: val_loss did not improve from 0.00138\n",
      "Epoch 6/100\n",
      "15000/15000 [==============================] - 79s 5ms/step - loss: 0.0012 - val_loss: 0.0015\n",
      "\n",
      "Epoch 00006: val_loss did not improve from 0.00138\n",
      "Epoch 7/100\n",
      "15000/15000 [==============================] - 79s 5ms/step - loss: 0.0012 - val_loss: 0.0013\n",
      "\n",
      "Epoch 00007: val_loss improved from 0.00138 to 0.00130, saving model to ckpt-dbt-50x50-com-subtract/model_7.hdf5\n",
      "Epoch 8/100\n",
      "15000/15000 [==============================] - 79s 5ms/step - loss: 0.0011 - val_loss: 0.0016\n",
      "\n",
      "Epoch 00008: val_loss did not improve from 0.00130\n",
      "Epoch 9/100\n",
      "15000/15000 [==============================] - 79s 5ms/step - loss: 0.0011 - val_loss: 0.0014\n",
      "\n",
      "Epoch 00009: val_loss did not improve from 0.00130\n",
      "Epoch 10/100\n",
      "15000/15000 [==============================] - 79s 5ms/step - loss: 0.0011 - val_loss: 0.0015\n",
      "\n",
      "Epoch 00010: val_loss did not improve from 0.00130\n",
      "Epoch 11/100\n",
      "15000/15000 [==============================] - 79s 5ms/step - loss: 0.0011 - val_loss: 0.0013\n",
      "\n",
      "Epoch 00011: val_loss did not improve from 0.00130\n",
      "Epoch 12/100\n",
      "15000/15000 [==============================] - 79s 5ms/step - loss: 0.0011 - val_loss: 0.0014\n",
      "\n",
      "Epoch 00012: val_loss did not improve from 0.00130\n",
      "Epoch 13/100\n",
      "15000/15000 [==============================] - 79s 5ms/step - loss: 0.0011 - val_loss: 0.0019\n",
      "\n",
      "Epoch 00013: val_loss did not improve from 0.00130\n",
      "Epoch 14/100\n",
      "15000/15000 [==============================] - 79s 5ms/step - loss: 0.0011 - val_loss: 0.0013\n",
      "\n",
      "Epoch 00014: val_loss did not improve from 0.00130\n",
      "Epoch 15/100\n",
      "15000/15000 [==============================] - 79s 5ms/step - loss: 0.0011 - val_loss: 0.0020\n",
      "\n",
      "Epoch 00015: val_loss did not improve from 0.00130\n",
      "Epoch 16/100\n",
      "15000/15000 [==============================] - 79s 5ms/step - loss: 0.0011 - val_loss: 0.0018\n",
      "\n",
      "Epoch 00016: val_loss did not improve from 0.00130\n",
      "Epoch 17/100\n",
      "15000/15000 [==============================] - 79s 5ms/step - loss: 0.0010 - val_loss: 0.0013\n",
      "\n",
      "Epoch 00017: val_loss did not improve from 0.00130\n",
      "Epoch 18/100\n",
      "15000/15000 [==============================] - 78s 5ms/step - loss: 0.0011 - val_loss: 0.0016\n",
      "\n",
      "Epoch 00018: val_loss did not improve from 0.00130\n",
      "Epoch 19/100\n",
      "15000/15000 [==============================] - 79s 5ms/step - loss: 0.0010 - val_loss: 0.0015\n",
      "\n",
      "Epoch 00019: val_loss did not improve from 0.00130\n",
      "Epoch 20/100\n",
      "15000/15000 [==============================] - 79s 5ms/step - loss: 0.0011 - val_loss: 0.0017\n",
      "\n",
      "Epoch 00020: val_loss did not improve from 0.00130\n",
      "Epoch 21/100\n",
      "15000/15000 [==============================] - 79s 5ms/step - loss: 0.0010 - val_loss: 0.0017\n",
      "\n",
      "Epoch 00021: val_loss did not improve from 0.00130\n",
      "Epoch 22/100\n",
      "15000/15000 [==============================] - 79s 5ms/step - loss: 0.0010 - val_loss: 0.0015\n",
      "\n",
      "Epoch 00022: val_loss did not improve from 0.00130\n",
      "Epoch 23/100\n",
      "15000/15000 [==============================] - 79s 5ms/step - loss: 0.0010 - val_loss: 0.0020\n",
      "\n",
      "Epoch 00023: val_loss did not improve from 0.00130\n",
      "Epoch 24/100\n",
      "15000/15000 [==============================] - 79s 5ms/step - loss: 0.0010 - val_loss: 0.0013\n",
      "\n",
      "Epoch 00024: val_loss did not improve from 0.00130\n",
      "Epoch 25/100\n",
      "15000/15000 [==============================] - 79s 5ms/step - loss: 9.6538e-04 - val_loss: 0.0024\n",
      "\n",
      "Epoch 00025: val_loss did not improve from 0.00130\n",
      "Epoch 26/100\n",
      "15000/15000 [==============================] - 79s 5ms/step - loss: 0.0011 - val_loss: 0.0014\n",
      "\n",
      "Epoch 00026: val_loss did not improve from 0.00130\n",
      "Epoch 27/100\n",
      "15000/15000 [==============================] - 79s 5ms/step - loss: 9.4314e-04 - val_loss: 0.0013\n",
      "\n",
      "Epoch 00027: val_loss did not improve from 0.00130\n",
      "Epoch 28/100\n",
      "15000/15000 [==============================] - 79s 5ms/step - loss: 0.0011 - val_loss: 0.0014\n",
      "\n",
      "Epoch 00028: val_loss did not improve from 0.00130\n",
      "Epoch 29/100\n",
      "15000/15000 [==============================] - 79s 5ms/step - loss: 9.4388e-04 - val_loss: 0.0016\n",
      "\n",
      "Epoch 00029: val_loss did not improve from 0.00130\n",
      "Epoch 30/100\n",
      "15000/15000 [==============================] - 78s 5ms/step - loss: 9.1986e-04 - val_loss: 0.0022\n",
      "\n",
      "Epoch 00030: val_loss did not improve from 0.00130\n",
      "Epoch 31/100\n",
      "15000/15000 [==============================] - 78s 5ms/step - loss: 9.3680e-04 - val_loss: 0.0014\n",
      "\n",
      "Epoch 00031: val_loss did not improve from 0.00130\n",
      "Epoch 32/100\n",
      "15000/15000 [==============================] - 79s 5ms/step - loss: 9.2379e-04 - val_loss: 0.0012\n",
      "\n",
      "Epoch 00032: val_loss improved from 0.00130 to 0.00122, saving model to ckpt-dbt-50x50-com-subtract/model_32.hdf5\n",
      "Epoch 33/100\n",
      "15000/15000 [==============================] - 78s 5ms/step - loss: 8.8414e-04 - val_loss: 0.0016\n",
      "\n",
      "Epoch 00033: val_loss did not improve from 0.00122\n",
      "Epoch 34/100\n",
      "15000/15000 [==============================] - 78s 5ms/step - loss: 8.9481e-04 - val_loss: 0.0014\n",
      "\n",
      "Epoch 00034: val_loss did not improve from 0.00122\n",
      "Epoch 35/100\n",
      "15000/15000 [==============================] - 78s 5ms/step - loss: 8.9727e-04 - val_loss: 0.0016\n",
      "\n",
      "Epoch 00035: val_loss did not improve from 0.00122\n",
      "Epoch 36/100\n",
      "15000/15000 [==============================] - 79s 5ms/step - loss: 8.7900e-04 - val_loss: 0.0013\n",
      "\n",
      "Epoch 00036: val_loss did not improve from 0.00122\n",
      "Epoch 37/100\n",
      "15000/15000 [==============================] - 78s 5ms/step - loss: 9.1516e-04 - val_loss: 0.0012\n",
      "\n",
      "Epoch 00037: val_loss did not improve from 0.00122\n",
      "Epoch 38/100\n",
      "15000/15000 [==============================] - 78s 5ms/step - loss: 8.6262e-04 - val_loss: 0.0022\n",
      "\n",
      "Epoch 00038: val_loss did not improve from 0.00122\n",
      "Epoch 39/100\n",
      "15000/15000 [==============================] - 78s 5ms/step - loss: 8.5711e-04 - val_loss: 0.0017\n",
      "\n",
      "Epoch 00039: val_loss did not improve from 0.00122\n",
      "Epoch 40/100\n",
      "15000/15000 [==============================] - 79s 5ms/step - loss: 8.5901e-04 - val_loss: 0.0019\n",
      "\n",
      "Epoch 00040: val_loss did not improve from 0.00122\n",
      "Epoch 41/100\n",
      "15000/15000 [==============================] - 78s 5ms/step - loss: 8.7952e-04 - val_loss: 0.0014\n",
      "\n",
      "Epoch 00041: val_loss did not improve from 0.00122\n",
      "Epoch 42/100\n",
      "15000/15000 [==============================] - 78s 5ms/step - loss: 8.0031e-04 - val_loss: 0.0020\n",
      "\n",
      "Epoch 00042: val_loss did not improve from 0.00122\n",
      "Epoch 43/100\n",
      "15000/15000 [==============================] - 78s 5ms/step - loss: 8.0218e-04 - val_loss: 0.0018\n",
      "\n",
      "Epoch 00043: val_loss did not improve from 0.00122\n",
      "Epoch 44/100\n",
      "15000/15000 [==============================] - 78s 5ms/step - loss: 7.8959e-04 - val_loss: 0.0012\n",
      "\n",
      "Epoch 00044: val_loss did not improve from 0.00122\n",
      "Epoch 45/100\n",
      "15000/15000 [==============================] - 79s 5ms/step - loss: 8.2614e-04 - val_loss: 0.0016\n",
      "\n",
      "Epoch 00045: val_loss did not improve from 0.00122\n",
      "Epoch 46/100\n",
      "15000/15000 [==============================] - 79s 5ms/step - loss: 8.0730e-04 - val_loss: 0.0015\n",
      "\n",
      "Epoch 00046: val_loss did not improve from 0.00122\n",
      "Epoch 47/100\n",
      "15000/15000 [==============================] - 79s 5ms/step - loss: 7.8851e-04 - val_loss: 0.0013\n",
      "\n",
      "Epoch 00047: val_loss did not improve from 0.00122\n",
      "Epoch 48/100\n",
      "15000/15000 [==============================] - 79s 5ms/step - loss: 8.3227e-04 - val_loss: 0.0018\n",
      "\n",
      "Epoch 00048: val_loss did not improve from 0.00122\n",
      "Epoch 49/100\n",
      "15000/15000 [==============================] - 78s 5ms/step - loss: 7.7964e-04 - val_loss: 0.0014\n",
      "\n",
      "Epoch 00049: val_loss did not improve from 0.00122\n",
      "Epoch 50/100\n",
      "15000/15000 [==============================] - 78s 5ms/step - loss: 7.3311e-04 - val_loss: 0.0020\n",
      "\n",
      "Epoch 00050: val_loss did not improve from 0.00122\n",
      "Epoch 51/100\n",
      "15000/15000 [==============================] - 78s 5ms/step - loss: 7.2436e-04 - val_loss: 0.0012\n",
      "\n",
      "Epoch 00051: val_loss did not improve from 0.00122\n",
      "Epoch 52/100\n",
      "15000/15000 [==============================] - 79s 5ms/step - loss: 7.9539e-04 - val_loss: 0.0014\n",
      "\n",
      "Epoch 00052: val_loss did not improve from 0.00122\n",
      "Epoch 53/100\n",
      "15000/15000 [==============================] - 78s 5ms/step - loss: 7.4332e-04 - val_loss: 0.0014\n",
      "\n",
      "Epoch 00053: val_loss did not improve from 0.00122\n",
      "Epoch 54/100\n",
      "15000/15000 [==============================] - 79s 5ms/step - loss: 6.9907e-04 - val_loss: 0.0017\n",
      "\n",
      "Epoch 00054: val_loss did not improve from 0.00122\n",
      "Epoch 55/100\n",
      "15000/15000 [==============================] - 79s 5ms/step - loss: 7.3453e-04 - val_loss: 0.0016\n",
      "\n",
      "Epoch 00055: val_loss did not improve from 0.00122\n",
      "Epoch 56/100\n",
      "15000/15000 [==============================] - 79s 5ms/step - loss: 7.6083e-04 - val_loss: 0.0012\n",
      "\n",
      "Epoch 00056: val_loss did not improve from 0.00122\n",
      "Epoch 57/100\n",
      "15000/15000 [==============================] - 79s 5ms/step - loss: 7.4549e-04 - val_loss: 0.0020\n",
      "\n",
      "Epoch 00057: val_loss did not improve from 0.00122\n",
      "Epoch 58/100\n",
      "15000/15000 [==============================] - 79s 5ms/step - loss: 7.5042e-04 - val_loss: 0.0013\n",
      "\n",
      "Epoch 00058: val_loss did not improve from 0.00122\n",
      "Epoch 59/100\n",
      "15000/15000 [==============================] - 79s 5ms/step - loss: 6.6935e-04 - val_loss: 0.0013\n",
      "\n",
      "Epoch 00059: val_loss did not improve from 0.00122\n",
      "Epoch 60/100\n",
      "15000/15000 [==============================] - 78s 5ms/step - loss: 7.3132e-04 - val_loss: 0.0013\n",
      "\n",
      "Epoch 00060: val_loss did not improve from 0.00122\n",
      "Epoch 61/100\n",
      "15000/15000 [==============================] - 79s 5ms/step - loss: 7.1395e-04 - val_loss: 0.0014\n",
      "\n",
      "Epoch 00061: val_loss did not improve from 0.00122\n",
      "Epoch 62/100\n",
      "15000/15000 [==============================] - 78s 5ms/step - loss: 7.0219e-04 - val_loss: 0.0014\n",
      "\n",
      "Epoch 00062: val_loss did not improve from 0.00122\n",
      "Epoch 63/100\n",
      "15000/15000 [==============================] - 78s 5ms/step - loss: 6.6862e-04 - val_loss: 0.0013\n",
      "\n",
      "Epoch 00063: val_loss did not improve from 0.00122\n",
      "Epoch 64/100\n",
      "15000/15000 [==============================] - 78s 5ms/step - loss: 6.8437e-04 - val_loss: 0.0033\n",
      "\n",
      "Epoch 00064: val_loss did not improve from 0.00122\n",
      "Epoch 65/100\n",
      "15000/15000 [==============================] - 78s 5ms/step - loss: 7.2192e-04 - val_loss: 0.0019\n",
      "\n",
      "Epoch 00065: val_loss did not improve from 0.00122\n",
      "Epoch 66/100\n",
      "15000/15000 [==============================] - 78s 5ms/step - loss: 0.0052 - val_loss: 0.0166\n",
      "\n",
      "Epoch 00066: val_loss did not improve from 0.00122\n",
      "Epoch 67/100\n",
      " 6784/15000 [============>.................] - ETA: 40s - loss: 0.0012"
     ]
    }
   ],
   "source": [
    "history = model.fit(\n",
    "    x_train,\n",
    "    y_train,\n",
    "    validation_data=(x_test, y_test),\n",
    "    batch_size=BATCH_SIZE,\n",
    "    shuffle=True,\n",
    "    epochs=100, \n",
    "    verbose=1,\n",
    "    callbacks=[checkpoint]\n",
    ")"
   ]
  },
  {
   "cell_type": "markdown",
   "metadata": {
    "colab_type": "text",
    "id": "7pSaO6StHMbA"
   },
   "source": [
    "# Testing the model in test patches"
   ]
  },
  {
   "cell_type": "markdown",
   "metadata": {
    "colab_type": "text",
    "id": "aVv5geaSHMbA"
   },
   "source": [
    "## Load model"
   ]
  },
  {
   "cell_type": "code",
   "execution_count": 102,
   "metadata": {
    "colab": {},
    "colab_type": "code",
    "executionInfo": {
     "elapsed": 100022,
     "status": "ok",
     "timestamp": 1595413920880,
     "user": {
      "displayName": "Darlan Murilo Nakamura de Araujo",
      "photoUrl": "",
      "userId": "05286552425313295957"
     },
     "user_tz": 180
    },
    "id": "HG_qtVmPHMbB"
   },
   "outputs": [],
   "source": [
    "model.load_weights('ckpt-dbt-50x50-com-subtract/model_32.hdf5')"
   ]
  },
  {
   "cell_type": "markdown",
   "metadata": {
    "colab_type": "text",
    "id": "Dc706U_KHMbG"
   },
   "source": [
    "## Denoising test projections"
   ]
  },
  {
   "cell_type": "code",
   "execution_count": 103,
   "metadata": {
    "colab": {
     "base_uri": "https://localhost:8080/",
     "height": 34
    },
    "colab_type": "code",
    "executionInfo": {
     "elapsed": 247777,
     "status": "ok",
     "timestamp": 1595414069671,
     "user": {
      "displayName": "Darlan Murilo Nakamura de Araujo",
      "photoUrl": "",
      "userId": "05286552425313295957"
     },
     "user_tz": 180
    },
    "id": "jNmTuar2HMbH",
    "outputId": "92e5cd1b-b669-4586-e2a9-c1c86cd4f441"
   },
   "outputs": [
    {
     "data": {
      "text/plain": [
       "(3750, 50, 50, 1)"
      ]
     },
     "execution_count": 103,
     "metadata": {
      "tags": []
     },
     "output_type": "execute_result"
    }
   ],
   "source": [
    "predicted = model.predict(x_test, verbose=2)\n",
    "predicted.shape"
   ]
  },
  {
   "cell_type": "markdown",
   "metadata": {
    "colab_type": "text",
    "id": "bgDywqwEHMbr"
   },
   "source": [
    "## Visual comparison"
   ]
  },
  {
   "cell_type": "code",
   "execution_count": null,
   "metadata": {
    "colab": {
     "base_uri": "https://localhost:8080/",
     "height": 244
    },
    "colab_type": "code",
    "executionInfo": {
     "elapsed": 724,
     "status": "ok",
     "timestamp": 1595410847633,
     "user": {
      "displayName": "Darlan Murilo Nakamura de Araujo",
      "photoUrl": "",
      "userId": "05286552425313295957"
     },
     "user_tz": 180
    },
    "id": "dBhWqNHyHMbs",
    "outputId": "dd6bb34f-42a8-4554-e0c4-31a2c0e96cc9"
   },
   "outputs": [
    {
     "data": {
      "image/png": "[encoded data removed]",
      "text/plain": [
       "<Figure size 864x576 with 3 Axes>"
      ]
     },
     "metadata": {
      "needs_background": "light",
      "tags": []
     },
     "output_type": "display_data"
    }
   ],
   "source": [
    "mostrar_lado_a_lado(imagens=[y_test[100,:,:,0], x_test[100,:,:,0], predicted[100,:,:,0]], titulos=['Original', 'Ruidoso', 'Filtrado'])"
   ]
  },
  {
   "cell_type": "code",
   "execution_count": null,
   "metadata": {
    "colab": {
     "base_uri": "https://localhost:8080/",
     "height": 34
    },
    "colab_type": "code",
    "executionInfo": {
     "elapsed": 601,
     "status": "ok",
     "timestamp": 1595411128083,
     "user": {
      "displayName": "Darlan Murilo Nakamura de Araujo",
      "photoUrl": "",
      "userId": "05286552425313295957"
     },
     "user_tz": 180
    },
    "id": "z-jvkQ0u6bF0",
    "outputId": "bd9ed656-a146-4fc4-a6bf-01f5ebcbe44f"
   },
   "outputs": [
    {
     "data": {
      "text/plain": [
       "(50, 50, 1)"
      ]
     },
     "execution_count": 47,
     "metadata": {
      "tags": []
     },
     "output_type": "execute_result"
    }
   ],
   "source": [
    "y_test[100].shape"
   ]
  },
  {
   "cell_type": "code",
   "execution_count": null,
   "metadata": {
    "colab": {
     "base_uri": "https://localhost:8080/",
     "height": 34
    },
    "colab_type": "code",
    "executionInfo": {
     "elapsed": 535,
     "status": "ok",
     "timestamp": 1595411159996,
     "user": {
      "displayName": "Darlan Murilo Nakamura de Araujo",
      "photoUrl": "",
      "userId": "05286552425313295957"
     },
     "user_tz": 180
    },
    "id": "CFngaMf36HeX",
    "outputId": "c6c085bc-99bd-488a-efe0-f4f4cbee5f8a"
   },
   "outputs": [
    {
     "name": "stdout",
     "output_type": "stream",
     "text": [
      "PSNR médio: 21.13 dB e SSIM médio 0.56.\n"
     ]
    }
   ],
   "source": [
    "pnsr_img = PSNR(y_test[100].reshape(1,50,50,1), predicted[100].reshape(1,50,50,1))\n",
    "ssim_img = SSIM(y_test[100].reshape(1,50,50,1), predicted[100].reshape(1,50,50,1))\n",
    "\n",
    "print('PSNR médio: %.2f dB e SSIM médio %.2f.' % (np.array(pnsr_img).mean(), np.array(ssim_img).mean()))"
   ]
  },
  {
   "cell_type": "code",
   "execution_count": null,
   "metadata": {
    "colab": {
     "base_uri": "https://localhost:8080/",
     "height": 244
    },
    "colab_type": "code",
    "executionInfo": {
     "elapsed": 1249,
     "status": "ok",
     "timestamp": 1595410983858,
     "user": {
      "displayName": "Darlan Murilo Nakamura de Araujo",
      "photoUrl": "",
      "userId": "05286552425313295957"
     },
     "user_tz": 180
    },
    "id": "BgwbMccI522v",
    "outputId": "4319e100-825b-4365-b233-40ded323e923"
   },
   "outputs": [
    {
     "data": {
      "image/png": "[encoded data removed]",
      "text/plain": [
       "<Figure size 864x576 with 3 Axes>"
      ]
     },
     "metadata": {
      "needs_background": "light",
      "tags": []
     },
     "output_type": "display_data"
    }
   ],
   "source": [
    "mostrar_lado_a_lado(imagens=[y_test[500,:,:,0], x_test[500,:,:,0], predicted[500,:,:,0]], titulos=['Original', 'Ruidoso', 'Filtrado'])"
   ]
  },
  {
   "cell_type": "code",
   "execution_count": null,
   "metadata": {
    "colab": {
     "base_uri": "https://localhost:8080/",
     "height": 34
    },
    "colab_type": "code",
    "executionInfo": {
     "elapsed": 718,
     "status": "ok",
     "timestamp": 1595411187644,
     "user": {
      "displayName": "Darlan Murilo Nakamura de Araujo",
      "photoUrl": "",
      "userId": "05286552425313295957"
     },
     "user_tz": 180
    },
    "id": "Q8huhQaN6pFt",
    "outputId": "4b36e5f5-8244-40a3-db21-1e74c42cf6f5"
   },
   "outputs": [
    {
     "name": "stdout",
     "output_type": "stream",
     "text": [
      "PSNR médio: 20.40 dB e SSIM médio 0.53.\n"
     ]
    }
   ],
   "source": [
    "pnsr_img = PSNR(y_test[500].reshape(1,50,50,1), predicted[500].reshape(1,50,50,1))\n",
    "ssim_img = SSIM(y_test[500].reshape(1,50,50,1), predicted[500].reshape(1,50,50,1))\n",
    "\n",
    "print('PSNR médio: %.2f dB e SSIM médio %.2f.' % (np.array(pnsr_img).mean(), np.array(ssim_img).mean()))"
   ]
  },
  {
   "cell_type": "markdown",
   "metadata": {
    "colab_type": "text",
    "id": "xltDTExSHMbL"
   },
   "source": [
    "## Compairing PSNR and SSIM of projections filtered by the network"
   ]
  },
  {
   "cell_type": "code",
   "execution_count": null,
   "metadata": {
    "colab": {},
    "colab_type": "code",
    "id": "gw3kX6foHMbV"
   },
   "outputs": [],
   "source": [
    "from denoising.measures import PSNR, SSIM"
   ]
  },
  {
   "cell_type": "code",
   "execution_count": null,
   "metadata": {
    "colab": {},
    "colab_type": "code",
    "id": "2ePiWfiBHMba"
   },
   "outputs": [],
   "source": [
    "psnr = PSNR(y_test, x_test)\n",
    "ssim = SSIM(y_test, x_test)"
   ]
  },
  {
   "cell_type": "code",
   "execution_count": null,
   "metadata": {
    "colab": {
     "base_uri": "https://localhost:8080/",
     "height": 34
    },
    "colab_type": "code",
    "executionInfo": {
     "elapsed": 2429,
     "status": "ok",
     "timestamp": 1595410859759,
     "user": {
      "displayName": "Darlan Murilo Nakamura de Araujo",
      "photoUrl": "",
      "userId": "05286552425313295957"
     },
     "user_tz": 180
    },
    "id": "Z6awel_1HMbe",
    "outputId": "537f16fc-52e6-4c66-f45d-5e3c1cfbfa77"
   },
   "outputs": [
    {
     "name": "stdout",
     "output_type": "stream",
     "text": [
      "PSNR médio: 18.99 dB e SSIM médio 0.30.\n"
     ]
    }
   ],
   "source": [
    "print('PSNR médio: %.2f dB e SSIM médio %.2f.' % (np.array(psnr).mean(), np.array(ssim).mean()))"
   ]
  },
  {
   "cell_type": "code",
   "execution_count": 104,
   "metadata": {
    "colab": {},
    "colab_type": "code",
    "executionInfo": {
     "elapsed": 2819,
     "status": "ok",
     "timestamp": 1595414072514,
     "user": {
      "displayName": "Darlan Murilo Nakamura de Araujo",
      "photoUrl": "",
      "userId": "05286552425313295957"
     },
     "user_tz": 180
    },
    "id": "3wA4bdaaHMbh"
   },
   "outputs": [],
   "source": [
    "psnr_pred = PSNR(y_test, predicted)\n",
    "ssim_pred = SSIM(y_test, predicted)"
   ]
  },
  {
   "cell_type": "code",
   "execution_count": 105,
   "metadata": {
    "colab": {
     "base_uri": "https://localhost:8080/",
     "height": 34
    },
    "colab_type": "code",
    "executionInfo": {
     "elapsed": 2797,
     "status": "ok",
     "timestamp": 1595414072518,
     "user": {
      "displayName": "Darlan Murilo Nakamura de Araujo",
      "photoUrl": "",
      "userId": "05286552425313295957"
     },
     "user_tz": 180
    },
    "id": "KUmqC5G-HMbl",
    "outputId": "3cfc160a-877c-4e36-ac14-898433357678"
   },
   "outputs": [
    {
     "name": "stdout",
     "output_type": "stream",
     "text": [
      "PSNR médio: 26.92 dB e SSIM médio 0.71.\n"
     ]
    }
   ],
   "source": [
    "print('PSNR médio: %.2f dB e SSIM médio %.2f.' % (np.array(psnr_pred).mean(), np.array(ssim_pred).mean()))"
   ]
  },
  {
   "cell_type": "markdown",
   "metadata": {
    "colab_type": "text",
    "id": "5Pfdcw97HMbq"
   },
   "source": [
    "# Average PSNR increased by 7.93 dB and avg. SSIM increased by 0.41."
   ]
  },
  {
   "cell_type": "code",
   "execution_count": null,
   "metadata": {},
   "outputs": [],
   "source": []
  }
 ],
 "metadata": {
  "accelerator": "GPU",
  "colab": {
   "collapsed_sections": [],
   "name": "FUNCIONOU - DnCNN (10 camadas) em DBT - patches 50x50 com subtract.ipynb",
   "provenance": []
  },
  "kernelspec": {
   "display_name": "Python 3",
   "language": "python",
   "name": "python3"
  },
  "language_info": {
   "codemirror_mode": {
    "name": "ipython",
    "version": 3
   },
   "file_extension": ".py",
   "mimetype": "text/x-python",
   "name": "python",
   "nbconvert_exporter": "python",
   "pygments_lexer": "ipython3",
   "version": "3.7.5"
  }
 },
 "nbformat": 4,
 "nbformat_minor": 4
}
